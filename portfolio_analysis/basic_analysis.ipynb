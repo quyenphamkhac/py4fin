{
 "cells": [
  {
   "cell_type": "code",
   "execution_count": 194,
   "metadata": {},
   "outputs": [],
   "source": [
    "import pandas as pd\n",
    "import pandas_datareader.data as pdr\n",
    "from datetime import date\n",
    "import yfinance as yf\n",
    "import numpy as np\n",
    "import matplotlib.pyplot as plt\n",
    "%matplotlib inline"
   ]
  },
  {
   "cell_type": "code",
   "execution_count": 195,
   "metadata": {},
   "outputs": [],
   "source": [
    "yf.pdr_override()"
   ]
  },
  {
   "cell_type": "code",
   "execution_count": 196,
   "metadata": {},
   "outputs": [],
   "source": [
    "tickers = ['GOOG','AMZN','MSFT','AAPL']\n",
    "data_source = 'yahoo'"
   ]
  },
  {
   "cell_type": "code",
   "execution_count": 197,
   "metadata": {},
   "outputs": [],
   "source": [
    "start_date = date(2020, 1, 1)\n",
    "end_date = date(2023, 1, 1)"
   ]
  },
  {
   "cell_type": "code",
   "execution_count": 198,
   "metadata": {},
   "outputs": [
    {
     "name": "stdout",
     "output_type": "stream",
     "text": [
      "[*********************100%***********************]  4 of 4 completed\n"
     ]
    }
   ],
   "source": [
    "stock_prices = pdr.get_data_yahoo(tickers=tickers, start=start_date, end=end_date)\n",
    "stock_prices = stock_prices.stack()"
   ]
  },
  {
   "cell_type": "code",
   "execution_count": 199,
   "metadata": {},
   "outputs": [
    {
     "name": "stdout",
     "output_type": "stream",
     "text": [
      "<class 'pandas.core.frame.DataFrame'>\n",
      "DatetimeIndex: 756 entries, 2020-01-02 to 2022-12-30\n",
      "Data columns (total 4 columns):\n",
      " #   Column  Non-Null Count  Dtype  \n",
      "---  ------  --------------  -----  \n",
      " 0   AAPL    756 non-null    float64\n",
      " 1   AMZN    756 non-null    float64\n",
      " 2   GOOG    756 non-null    float64\n",
      " 3   MSFT    756 non-null    float64\n",
      "dtypes: float64(4)\n",
      "memory usage: 29.5 KB\n"
     ]
    }
   ],
   "source": [
    "data = stock_prices['Close'].unstack()\n",
    "data.info()"
   ]
  },
  {
   "cell_type": "code",
   "execution_count": 200,
   "metadata": {},
   "outputs": [],
   "source": [
    "daily_returns = data.pct_change()\n",
    "weights = np.array([0.05, 0.4, 0.3, 0.25])"
   ]
  },
  {
   "cell_type": "code",
   "execution_count": 201,
   "metadata": {},
   "outputs": [
    {
     "name": "stdout",
     "output_type": "stream",
     "text": [
      "          AAPL      AMZN      GOOG      MSFT\n",
      "AAPL  0.135354  0.094914  0.091602  0.103363\n",
      "AMZN  0.094914  0.151546  0.091062  0.094593\n",
      "GOOG  0.091602  0.091062  0.117196  0.097821\n",
      "MSFT  0.103363  0.094593  0.097821  0.119950\n"
     ]
    }
   ],
   "source": [
    "# Calculate the covariance matrix on daily returns\n",
    "# Note: 250 = 250 trading days in a year\n",
    "cov_matrix = (daily_returns.cov())*250\n",
    "print(cov_matrix)"
   ]
  },
  {
   "cell_type": "code",
   "execution_count": 202,
   "metadata": {},
   "outputs": [
    {
     "name": "stdout",
     "output_type": "stream",
     "text": [
      "32.74%\n"
     ]
    }
   ],
   "source": [
    "# Calculate the standard deviation by taking the square root\n",
    "port_standard_dev = np.sqrt(np.dot(weights.T, np.dot(cov_matrix, weights)))\n",
    "print(str(np.round(port_standard_dev, 4) * 100) + '%')"
   ]
  },
  {
   "cell_type": "code",
   "execution_count": 203,
   "metadata": {},
   "outputs": [
    {
     "name": "stdout",
     "output_type": "stream",
     "text": [
      "          AAPL      AMZN      GOOG      MSFT\n",
      "AAPL  0.135354  0.094914  0.091602  0.103363\n",
      "AMZN  0.094914  0.151546  0.091062  0.094593\n",
      "GOOG  0.091602  0.091062  0.117196  0.097821\n",
      "MSFT  0.103363  0.094593  0.097821  0.119950\n"
     ]
    }
   ],
   "source": [
    "print(cov_matrix)"
   ]
  },
  {
   "attachments": {},
   "cell_type": "markdown",
   "metadata": {},
   "source": [
    "## Comparing returns\n",
    "\n",
    "1. *Annual Return*: Total return earned over a period of one calendar year\n",
    "2. *Annualized return*: Yearly rate of return inferred from any time period\n",
    "3. *Average Return*:  Total return realized over a longer period, spread out evenly over the (shorter) periods.\n",
    "4. *Cumulative (compounding) return*: A return that includes the compounded results of re-investing, dividends, and capital gains."
   ]
  },
  {
   "attachments": {},
   "cell_type": "markdown",
   "metadata": {},
   "source": [
    "### Calculating annualized returns\n",
    "\n",
    "- **N in years**: rate = (1 + Return) ^ 1/N - 1\n",
    "- **N in months**: rate = (1 + Return) ^ 12/N - 1\n",
    "- Convert any time length to an annual rate\n",
    "- **Return** is total return you want to annualize\n",
    "- **N** is number of periods so far."
   ]
  },
  {
   "attachments": {},
   "cell_type": "markdown",
   "metadata": {},
   "source": [
    "### Annualized returns in python"
   ]
  },
  {
   "cell_type": "code",
   "execution_count": 204,
   "metadata": {},
   "outputs": [
    {
     "data": {
      "text/plain": [
       "Date\n",
       "2020-01-02    75.087502\n",
       "Name: AAPL, dtype: float64"
      ]
     },
     "execution_count": 204,
     "metadata": {},
     "output_type": "execute_result"
    }
   ],
   "source": [
    "apple_price = data['AAPL']\n",
    "\n",
    "apple_price.head(1)"
   ]
  },
  {
   "cell_type": "code",
   "execution_count": 205,
   "metadata": {},
   "outputs": [
    {
     "data": {
      "text/plain": [
       "Date\n",
       "2022-12-30    129.929993\n",
       "Name: AAPL, dtype: float64"
      ]
     },
     "execution_count": 205,
     "metadata": {},
     "output_type": "execute_result"
    }
   ],
   "source": [
    "apple_price.tail(1)"
   ]
  },
  {
   "cell_type": "code",
   "execution_count": 206,
   "metadata": {},
   "outputs": [],
   "source": [
    "months = 24"
   ]
  },
  {
   "cell_type": "code",
   "execution_count": 207,
   "metadata": {},
   "outputs": [
    {
     "name": "stdout",
     "output_type": "stream",
     "text": [
      "0.7303810892016547\n"
     ]
    }
   ],
   "source": [
    "# Calculate the total return\n",
    "total_return = (apple_price[-1] - apple_price[0]) / apple_price[0]\n",
    "\n",
    "print(total_return)"
   ]
  },
  {
   "cell_type": "code",
   "execution_count": 208,
   "metadata": {},
   "outputs": [
    {
     "name": "stdout",
     "output_type": "stream",
     "text": [
      "0.3154395041968501\n"
     ]
    }
   ],
   "source": [
    "annualized_return = ((1 + total_return)**(12/months)) - 1\n",
    "\n",
    "print(annualized_return)"
   ]
  },
  {
   "cell_type": "code",
   "execution_count": 209,
   "metadata": {},
   "outputs": [
    {
     "name": "stdout",
     "output_type": "stream",
     "text": [
      "AAPL 0.3154395041968501\n",
      "AMZN -0.059182474978833666\n",
      "GOOG 0.13921901150546678\n",
      "MSFT 0.2219203615755656\n"
     ]
    }
   ],
   "source": [
    "for col in data.columns:\n",
    "    total_return = (data[col].iloc[-1]  - data[col].iloc[0]) / data[col].iloc[0]\n",
    "    annualized_return = ((1 + total_return)**(12/months)) -1\n",
    "    print(col, annualized_return)"
   ]
  },
  {
   "attachments": {},
   "cell_type": "markdown",
   "metadata": {},
   "source": [
    "## Risk adjusted returns\n",
    "\n",
    "### Choose a portfolio ?\n",
    "**Portfolio 1**\n",
    "- Annual return of 14%\n",
    "- Volatility (standard deviation) is 8%\n",
    "\n",
    "**Portfolio 2**\n",
    "- Annual return of 6%\n",
    "- Volatility is 3%\n",
    "\n",
    "### About risk adjusted return\n",
    "- It defines an investment's return by measuring how much risk is involved in producting that return\n",
    "- It's usually a ratio\n",
    "- Allows you to objectively compare across different investment options\n",
    "- Tells you whether the return justifies the underlying risk\n",
    "\n",
    "### Sharpe ratio\n",
    "- Sharpe ratio is the most commonly used risk adjusted return ratio\n",
    "- It's calculated as follows\n",
    "- ***Sharpe ratio*** = (Rp - Rf) / Op\n",
    "- Where: *Rp* is the portfolio return, *Rf* is the risk free rate and *Op* is the portfolio standard deviation\n",
    "- ***Op*** = sqrt(Weights.T * (Covariance matrix * Weights))\n",
    "\n",
    "### Annualizing volatility\n",
    "- Annualized standard deviation is calculated as follows: Oa = Om * sqrt(T)\n",
    "- Om is the measured standard deviation\n",
    "- Oa is annualized standard deviation\n",
    "- T is the number of data points per year (250)"
   ]
  },
  {
   "attachments": {},
   "cell_type": "markdown",
   "metadata": {},
   "source": [
    "### Calculating the Sharpe Ratio"
   ]
  },
  {
   "cell_type": "code",
   "execution_count": 210,
   "metadata": {},
   "outputs": [],
   "source": [
    "apple_returns = apple_price.pct_change()"
   ]
  },
  {
   "cell_type": "code",
   "execution_count": 211,
   "metadata": {},
   "outputs": [
    {
     "name": "stdout",
     "output_type": "stream",
     "text": [
      "0.36790542445787827\n"
     ]
    }
   ],
   "source": [
    "annualized_vol = apple_returns.std() * np.sqrt(250)\n",
    "print(annualized_vol)"
   ]
  },
  {
   "cell_type": "code",
   "execution_count": 212,
   "metadata": {},
   "outputs": [],
   "source": [
    "risk_free = 0.01"
   ]
  },
  {
   "cell_type": "code",
   "execution_count": 213,
   "metadata": {},
   "outputs": [
    {
     "name": "stdout",
     "output_type": "stream",
     "text": [
      "0.3154395041968501\n"
     ]
    }
   ],
   "source": [
    "total_return = (apple_price[-1]  - apple_price[0]) / apple_price[0]\n",
    "annualized_return = ((1 + total_return)**(12/months)) - 1\n",
    "print(annualized_return)"
   ]
  },
  {
   "cell_type": "code",
   "execution_count": 214,
   "metadata": {},
   "outputs": [
    {
     "name": "stdout",
     "output_type": "stream",
     "text": [
      "0.8302120161640074\n"
     ]
    }
   ],
   "source": [
    "sharpe_ratio = (annualized_return - risk_free) / annualized_vol\n",
    "print(sharpe_ratio)"
   ]
  },
  {
   "attachments": {},
   "cell_type": "markdown",
   "metadata": {},
   "source": [
    "## Non-normal distribution of returns\n",
    "\n",
    "### Pearson's Coefficient of Skewness\n",
    "\n",
    "***Skewness*** = 3 * (mean - median) / (standard deviation)\n",
    "\n",
    "Rule of thumb:\n",
    "- *Skewnesss* < -1 or *Skewness > 1 -> Highly skewed distribution\n",
    "- -1 < *Skewness* < -0.5 or 0.5 < *Skewness* < 1 -> Moderately skewed distribution\n",
    "- -0.5 < *Skewness* < 0.5 -> Approximately symmetric distribution\n",
    "\n",
    "### Kurtosis: Fat tailed distribution\n",
    "### Interpreting kurtosis\n",
    "*\"Higher kurtosis means more of the variance is the result of infrequent extreme deviations, as opposed to frequent modestly deviations\"*\n",
    "\n",
    "- A normal distribution has kurtosis of exactly 3 and is called (mesokurtic)\n",
    "- A distribution with kurtosis <3 is called platykurtic. Tails are shorter and thinner, and central peak is lower and broader\n",
    "- A distribution with kurtosis >3 is called leptokurtic. Tails are longer and fatter, and central peak is higher and sharper **(fat tailed)**"
   ]
  },
  {
   "attachments": {},
   "cell_type": "markdown",
   "metadata": {},
   "source": [
    "### Calculating skewness and kurtosis"
   ]
  },
  {
   "cell_type": "code",
   "execution_count": 215,
   "metadata": {},
   "outputs": [
    {
     "data": {
      "text/plain": [
       "Date\n",
       "2020-01-02         NaN\n",
       "2020-01-03   -0.009722\n",
       "2020-01-06    0.007968\n",
       "Name: AAPL, dtype: float64"
      ]
     },
     "execution_count": 215,
     "metadata": {},
     "output_type": "execute_result"
    }
   ],
   "source": [
    "apple_returns.head(3)"
   ]
  },
  {
   "cell_type": "code",
   "execution_count": 216,
   "metadata": {},
   "outputs": [
    {
     "data": {
      "text/plain": [
       "<Axes: >"
      ]
     },
     "execution_count": 216,
     "metadata": {},
     "output_type": "execute_result"
    },
    {
     "data": {
      "image/png": "[encoded data removed]",
      "text/plain": [
       "<Figure size 640x480 with 1 Axes>"
      ]
     },
     "metadata": {},
     "output_type": "display_data"
    }
   ],
   "source": [
    "apple_returns.hist()"
   ]
  },
  {
   "cell_type": "code",
   "execution_count": 217,
   "metadata": {},
   "outputs": [
    {
     "name": "stdout",
     "output_type": "stream",
     "text": [
      "mean :  0.0009966930451517286\n",
      "vol :  0.023268382096358276\n",
      "skew :  0.09752757534172643\n",
      "kurt :  4.037640152069237\n"
     ]
    }
   ],
   "source": [
    "print(\"mean : \", apple_returns.mean())\n",
    "print(\"vol : \", apple_returns.std())\n",
    "print(\"skew : \", apple_returns.skew())\n",
    "print(\"kurt : \", apple_returns.kurtosis())"
   ]
  },
  {
   "attachments": {},
   "cell_type": "markdown",
   "metadata": {},
   "source": [
    "## Alternative measures of risk\n",
    "\n",
    "### Looking at downside risk\n",
    "![Downside risk](../assets/images/downside_risk.png)\n",
    "\n",
    "- A good risk measure should focus on potential losses i.e. downside risk\n",
    "\n",
    "### Sortino ratio\n",
    "- Similar to the Sharpe ratio, just with a different standard deviation\n",
    "- *Sortino Ratio* = (Rp - Rf) / (standard deviation of the downside)\n",
    "- Downside risk fomula:\n",
    "\n",
    "![Downside risk](../assets/images/downside_risk_fomula.png)"
   ]
  },
  {
   "attachments": {},
   "cell_type": "markdown",
   "metadata": {},
   "source": [
    "### Sortino ratio in python"
   ]
  },
  {
   "cell_type": "code",
   "execution_count": 218,
   "metadata": {},
   "outputs": [],
   "source": [
    "rfr = 0\n",
    "target_return = 0"
   ]
  },
  {
   "cell_type": "code",
   "execution_count": 219,
   "metadata": {},
   "outputs": [],
   "source": [
    "negative_returns = apple_returns.loc[apple_returns < target_return]"
   ]
  },
  {
   "cell_type": "code",
   "execution_count": 220,
   "metadata": {},
   "outputs": [
    {
     "data": {
      "text/plain": [
       "Date\n",
       "2020-01-03   -0.009722\n",
       "2020-01-07   -0.004703\n",
       "2020-01-14   -0.013503\n",
       "Name: AAPL, dtype: float64"
      ]
     },
     "execution_count": 220,
     "metadata": {},
     "output_type": "execute_result"
    }
   ],
   "source": [
    "negative_returns.head(3)"
   ]
  },
  {
   "cell_type": "code",
   "execution_count": 221,
   "metadata": {},
   "outputs": [],
   "source": [
    "expected_return = apple_returns.mean()\n",
    "down_stdev = negative_returns.std()"
   ]
  },
  {
   "cell_type": "code",
   "execution_count": 222,
   "metadata": {},
   "outputs": [
    {
     "name": "stdout",
     "output_type": "stream",
     "text": [
      "0.06223606041824739\n"
     ]
    }
   ],
   "source": [
    "sortino_ratio = (expected_return - rfr) / down_stdev\n",
    "print(sortino_ratio)"
   ]
  },
  {
   "attachments": {},
   "cell_type": "markdown",
   "metadata": {},
   "source": [
    "### Maximun draw-down\n",
    "- The largest percentage loss from a market peak to trough (valley)\n",
    "- Dependent on the chosen time window\n",
    "- The recovery time: time it takes to get back to break-even\n",
    "### Maximum daily draw-down in Python"
   ]
  },
  {
   "cell_type": "code",
   "execution_count": 223,
   "metadata": {},
   "outputs": [
    {
     "name": "stdout",
     "output_type": "stream",
     "text": [
      "Date\n",
      "2020-01-02     75.087502\n",
      "2020-01-03     75.087502\n",
      "2020-01-06     75.087502\n",
      "2020-01-07     75.087502\n",
      "2020-01-08     75.797501\n",
      "                 ...    \n",
      "2022-12-23    182.009995\n",
      "2022-12-27    182.009995\n",
      "2022-12-28    182.009995\n",
      "2022-12-29    182.009995\n",
      "2022-12-30    179.699997\n",
      "Name: AAPL, Length: 756, dtype: float64\n"
     ]
    }
   ],
   "source": [
    "roll_max = apple_price.rolling(min_periods=1, window=250).max()\n",
    "print(roll_max)"
   ]
  },
  {
   "cell_type": "code",
   "execution_count": 224,
   "metadata": {},
   "outputs": [],
   "source": [
    "daily_drawdown = apple_price/roll_max - 1.0"
   ]
  },
  {
   "cell_type": "code",
   "execution_count": 225,
   "metadata": {},
   "outputs": [],
   "source": [
    "max_daily_drawdown = daily_drawdown.rolling(min_periods=1, window=250).min()"
   ]
  },
  {
   "cell_type": "code",
   "execution_count": 226,
   "metadata": {},
   "outputs": [
    {
     "data": {
      "text/plain": [
       "<Axes: xlabel='Date'>"
      ]
     },
     "execution_count": 226,
     "metadata": {},
     "output_type": "execute_result"
    },
    {
     "data": {
      "image/png": "[encoded data removed]",
      "text/plain": [
       "<Figure size 640x480 with 1 Axes>"
      ]
     },
     "metadata": {},
     "output_type": "display_data"
    }
   ],
   "source": [
    "daily_drawdown.plot()\n",
    "max_daily_drawdown.plot()"
   ]
  },
  {
   "attachments": {},
   "cell_type": "markdown",
   "metadata": {},
   "source": [
    "# Performance Attribution\n",
    "In chapter 3, you’ll learn about investment factors and how they play a role in driving risk and return. You’ll learn about the Fama French factor model, and use that to break down portfolio returns into explainable, common factors. This chapter also covers how to use Pyfolio, a public portfolio analysis tool.\n",
    "\n",
    "## Comparing against a benchmark\n",
    "\n",
    "### Active investing against a benchmark\n",
    "![Active investing vs SP500](../assets/images/active_investing.png \"Vanguard vs SP500\")\n",
    "### Active return for an actively managed portfolio\n",
    "- Active return is the performance of an (active) investment, relative to the investment's benchmark\n",
    "- Calculated as the **difference between the benchmark and the actual return**\n",
    "- Active return is achieved by \"active\" investing, i.e. taking **overweight and underweight positions** from the benchmark\n",
    "### Tracking error for an index tracker\n",
    "- Passive investment funds, or **index trackers**, don't use active return as a measure for performance\n",
    "- **Tracking error** is the name used for the difference in portfolio and benchmark for a passive investment fund.\n",
    "### Active weights\n",
    "![Active weights](../assets/images/acitve_weights.png \"Active weights of portfolio and SP500 Index\")"
   ]
  },
  {
   "attachments": {},
   "cell_type": "markdown",
   "metadata": {},
   "source": [
    "### Active return in Python"
   ]
  },
  {
   "cell_type": "code",
   "execution_count": 227,
   "metadata": {},
   "outputs": [
    {
     "name": "stdout",
     "output_type": "stream",
     "text": [
      "<class 'pandas.core.frame.DataFrame'>\n",
      "Index: 501 entries, A to ZTS\n",
      "Data columns (total 7 columns):\n",
      " #   Column             Non-Null Count  Dtype  \n",
      "---  ------             --------------  -----  \n",
      " 0   mean_return        501 non-null    float64\n",
      " 1   variance           501 non-null    float64\n",
      " 2   pf_weights         501 non-null    float64\n",
      " 3   bm_weights         501 non-null    float64\n",
      " 4   Security           501 non-null    object \n",
      " 5   GICS Sector        501 non-null    object \n",
      " 6   GICS Sub Industry  501 non-null    object \n",
      "dtypes: float64(4), object(3)\n",
      "memory usage: 31.3+ KB\n"
     ]
    }
   ],
   "source": [
    "portfolio_data = pd.read_csv('../datasets/large_pf.csv', index_col=0)\n",
    "portfolio_data.info()"
   ]
  },
  {
   "cell_type": "code",
   "execution_count": 228,
   "metadata": {},
   "outputs": [
    {
     "name": "stdout",
     "output_type": "stream",
     "text": [
      "100.0\n"
     ]
    }
   ],
   "source": [
    "# Check the portfolio weights\n",
    "print(portfolio_data['pf_weights'].sum())"
   ]
  },
  {
   "cell_type": "code",
   "execution_count": 229,
   "metadata": {},
   "outputs": [
    {
     "name": "stdout",
     "output_type": "stream",
     "text": [
      "33.134025872593554\n"
     ]
    }
   ],
   "source": [
    "# Calculate return of the portfolio\n",
    "total_return_pf = (portfolio_data['mean_return']*portfolio_data['pf_weights']).sum()\n",
    "print(total_return_pf)"
   ]
  },
  {
   "cell_type": "code",
   "execution_count": 230,
   "metadata": {},
   "outputs": [
    {
     "name": "stdout",
     "output_type": "stream",
     "text": [
      "10.557642112692943\n"
     ]
    }
   ],
   "source": [
    "# Calculate return of the benchmark\n",
    "total_return_bm = (portfolio_data['mean_return']*portfolio_data['bm_weights']).sum()\n",
    "print(total_return_bm)"
   ]
  },
  {
   "cell_type": "code",
   "execution_count": 231,
   "metadata": {},
   "outputs": [
    {
     "name": "stdout",
     "output_type": "stream",
     "text": [
      "22.58%\n"
     ]
    }
   ],
   "source": [
    "# Calculate and print the active return\n",
    "active_return = total_return_pf - total_return_bm\n",
    "print (\"%.2f%%\" % active_return)"
   ]
  },
  {
   "cell_type": "code",
   "execution_count": 232,
   "metadata": {},
   "outputs": [
    {
     "name": "stdout",
     "output_type": "stream",
     "text": [
      "<class 'pandas.core.frame.DataFrame'>\n",
      "Index: 11 entries, Consumer Discretionary to Utilities\n",
      "Data columns (total 6 columns):\n",
      " #   Column             Non-Null Count  Dtype  \n",
      "---  ------             --------------  -----  \n",
      " 0   mean_return        11 non-null     float64\n",
      " 1   variance           11 non-null     float64\n",
      " 2   pf_weights         11 non-null     float64\n",
      " 3   bm_weights         11 non-null     float64\n",
      " 4   Security           11 non-null     object \n",
      " 5   GICS Sub Industry  11 non-null     object \n",
      "dtypes: float64(4), object(2)\n",
      "memory usage: 616.0+ bytes\n"
     ]
    }
   ],
   "source": [
    "# Group dataframe by GICS sectors\n",
    "grouped_df = portfolio_data.groupby('GICS Sector').sum()\n",
    "grouped_df.info()"
   ]
  },
  {
   "cell_type": "code",
   "execution_count": 233,
   "metadata": {},
   "outputs": [
    {
     "data": {
      "text/html": [
       "<div>\n",
       "<style scoped>\n",
       "    .dataframe tbody tr th:only-of-type {\n",
       "        vertical-align: middle;\n",
       "    }\n",
       "\n",
       "    .dataframe tbody tr th {\n",
       "        vertical-align: top;\n",
       "    }\n",
       "\n",
       "    .dataframe thead th {\n",
       "        text-align: right;\n",
       "    }\n",
       "</style>\n",
       "<table border=\"1\" class=\"dataframe\">\n",
       "  <thead>\n",
       "    <tr style=\"text-align: right;\">\n",
       "      <th></th>\n",
       "      <th>mean_return</th>\n",
       "      <th>variance</th>\n",
       "      <th>pf_weights</th>\n",
       "      <th>bm_weights</th>\n",
       "      <th>Security</th>\n",
       "      <th>GICS Sub Industry</th>\n",
       "    </tr>\n",
       "    <tr>\n",
       "      <th>GICS Sector</th>\n",
       "      <th></th>\n",
       "      <th></th>\n",
       "      <th></th>\n",
       "      <th></th>\n",
       "      <th></th>\n",
       "      <th></th>\n",
       "    </tr>\n",
       "  </thead>\n",
       "  <tbody>\n",
       "    <tr>\n",
       "      <th>Consumer Discretionary</th>\n",
       "      <td>14.091950</td>\n",
       "      <td>3.011996</td>\n",
       "      <td>32.426</td>\n",
       "      <td>12.169</td>\n",
       "      <td>Advance Auto PartsAmazon.com IncAutoNation Inc...</td>\n",
       "      <td>Automotive RetailInternet &amp; Direct Marketing R...</td>\n",
       "    </tr>\n",
       "    <tr>\n",
       "      <th>Consumer Staples</th>\n",
       "      <td>5.131286</td>\n",
       "      <td>0.639845</td>\n",
       "      <td>24.551</td>\n",
       "      <td>29.727</td>\n",
       "      <td>Archer-Daniels-Midland CoConAgra Foods Inc.Chu...</td>\n",
       "      <td>Agricultural ProductsPackaged Foods &amp; MeatsHou...</td>\n",
       "    </tr>\n",
       "    <tr>\n",
       "      <th>Energy</th>\n",
       "      <td>3.390600</td>\n",
       "      <td>1.897641</td>\n",
       "      <td>0.000</td>\n",
       "      <td>0.000</td>\n",
       "      <td>Apache CorporationAnadarko Petroleum CorpBaker...</td>\n",
       "      <td>Oil &amp; Gas Exploration &amp; ProductionOil &amp; Gas Ex...</td>\n",
       "    </tr>\n",
       "    <tr>\n",
       "      <th>Financials</th>\n",
       "      <td>8.701437</td>\n",
       "      <td>1.879873</td>\n",
       "      <td>0.000</td>\n",
       "      <td>2.116</td>\n",
       "      <td>AFLAC IncAmerican International Group, Inc.Ass...</td>\n",
       "      <td>Life &amp; Health InsuranceProperty &amp; Casualty Ins...</td>\n",
       "    </tr>\n",
       "    <tr>\n",
       "      <th>Health Care</th>\n",
       "      <td>10.747583</td>\n",
       "      <td>2.349866</td>\n",
       "      <td>11.964</td>\n",
       "      <td>9.099</td>\n",
       "      <td>Agilent Technologies IncAbbVieAmerisourceBerge...</td>\n",
       "      <td>Health Care EquipmentPharmaceuticalsHealth Car...</td>\n",
       "    </tr>\n",
       "  </tbody>\n",
       "</table>\n",
       "</div>"
      ],
      "text/plain": [
       "                        mean_return  variance  pf_weights  bm_weights   \n",
       "GICS Sector                                                             \n",
       "Consumer Discretionary    14.091950  3.011996      32.426      12.169  \\\n",
       "Consumer Staples           5.131286  0.639845      24.551      29.727   \n",
       "Energy                     3.390600  1.897641       0.000       0.000   \n",
       "Financials                 8.701437  1.879873       0.000       2.116   \n",
       "Health Care               10.747583  2.349866      11.964       9.099   \n",
       "\n",
       "                                                                 Security   \n",
       "GICS Sector                                                                 \n",
       "Consumer Discretionary  Advance Auto PartsAmazon.com IncAutoNation Inc...  \\\n",
       "Consumer Staples        Archer-Daniels-Midland CoConAgra Foods Inc.Chu...   \n",
       "Energy                  Apache CorporationAnadarko Petroleum CorpBaker...   \n",
       "Financials              AFLAC IncAmerican International Group, Inc.Ass...   \n",
       "Health Care             Agilent Technologies IncAbbVieAmerisourceBerge...   \n",
       "\n",
       "                                                        GICS Sub Industry  \n",
       "GICS Sector                                                                \n",
       "Consumer Discretionary  Automotive RetailInternet & Direct Marketing R...  \n",
       "Consumer Staples        Agricultural ProductsPackaged Foods & MeatsHou...  \n",
       "Energy                  Oil & Gas Exploration & ProductionOil & Gas Ex...  \n",
       "Financials              Life & Health InsuranceProperty & Casualty Ins...  \n",
       "Health Care             Health Care EquipmentPharmaceuticalsHealth Car...  "
      ]
     },
     "execution_count": 233,
     "metadata": {},
     "output_type": "execute_result"
    }
   ],
   "source": [
    "grouped_df.head()"
   ]
  },
  {
   "cell_type": "code",
   "execution_count": 234,
   "metadata": {},
   "outputs": [
    {
     "name": "stdout",
     "output_type": "stream",
     "text": [
      "GICS Sector\n",
      "Consumer Discretionary         20.257\n",
      "Consumer Staples               -5.176\n",
      "Energy                          0.000\n",
      "Financials                     -2.116\n",
      "Health Care                     2.865\n",
      "Industrials                     2.465\n",
      "Information Technology          8.693\n",
      "Materials                      -2.043\n",
      "Real Estate                     2.014\n",
      "Telecommunications Services    -1.367\n",
      "Utilities                     -25.593\n",
      "Name: active_weight, dtype: float64\n"
     ]
    }
   ],
   "source": [
    "grouped_df['active_weight'] = grouped_df['pf_weights'] - grouped_df['bm_weights']\n",
    "print(grouped_df['active_weight'])"
   ]
  },
  {
   "attachments": {},
   "cell_type": "markdown",
   "metadata": {},
   "source": [
    "## Risk factors\n",
    "### What is a factor?\n",
    "Factors in portfolios are like nutrients in food\n",
    "![Portfolio factors](../assets/images/portfolio_factor.png \"Portfolio factors\")\n",
    "### Factors in portfolios\n",
    "Different types of factors\n",
    "- Macro factors: interest rates, currency, country, industry\n",
    "- Style factors: momentum, volatility, value and quality\n",
    "![Style factors](../assets/images/style_factors.png \"Style factors\")\n",
    "### Using factor models to determine risk exposure\n",
    "![Factor investing](../assets/images/factor_investing.png \"Factor investing\")\n",
    "### Factor exposures\n",
    "\n",
    "#### Size factor\n",
    "\n",
    "#### Momemtum factor\n",
    "A stock is showing \"momentum\" if its prior 12-month average of returns is positive. The momentum factor is therefore formed by combining stocks that show consistent positive historic returns. \n",
    "#### Value factor\n",
    "The value factor looks at stocks that are inexpensive relative to some measure of fundamental value. For example price-to-earnings and price-to-book are typically ratios to measure \"value\"."
   ]
  },
  {
   "cell_type": "code",
   "execution_count": 235,
   "metadata": {},
   "outputs": [
    {
     "name": "stdout",
     "output_type": "stream",
     "text": [
      "<class 'pandas.core.frame.DataFrame'>\n",
      "DatetimeIndex: 252 entries, 2016-01-04 to 2016-12-30\n",
      "Data columns (total 4 columns):\n",
      " #   Column        Non-Null Count  Dtype  \n",
      "---  ------        --------------  -----  \n",
      " 0   S&P500        252 non-null    float64\n",
      " 1   WML           252 non-null    float64\n",
      " 2   value_factor  252 non-null    float64\n",
      " 3   portfolio     252 non-null    float64\n",
      "dtypes: float64(4)\n",
      "memory usage: 9.8 KB\n"
     ]
    }
   ],
   "source": [
    "pf_factors = pd.read_csv('../datasets/pf_factors.csv', parse_dates=['date'], index_col='date')\n",
    "pf_factors.info()"
   ]
  },
  {
   "cell_type": "code",
   "execution_count": 236,
   "metadata": {},
   "outputs": [],
   "source": [
    "pf_factors['momentum'] = pf_factors['WML']"
   ]
  },
  {
   "cell_type": "code",
   "execution_count": 237,
   "metadata": {},
   "outputs": [],
   "source": [
    "# Calculate 20-day rolling correlation with momentum \n",
    "pf_factors['correlation_mom'] = pf_factors['S&P500'].rolling(20).corr(pf_factors['momentum'])\n",
    "\n",
    "# Calculate 20-day rolling correlation with value\n",
    "pf_factors['correlation_value'] = pf_factors['S&P500'].rolling(20).corr(pf_factors['value_factor'])"
   ]
  },
  {
   "cell_type": "code",
   "execution_count": 238,
   "metadata": {},
   "outputs": [
    {
     "data": {
      "text/plain": [
       "<matplotlib.legend.Legend at 0x16a3dfee0>"
      ]
     },
     "execution_count": 238,
     "metadata": {},
     "output_type": "execute_result"
    },
    {
     "data": {
      "image/png": "[encoded data removed]",
      "text/plain": [
       "<Figure size 640x480 with 1 Axes>"
      ]
     },
     "metadata": {},
     "output_type": "display_data"
    }
   ],
   "source": [
    "# Plot the correlations\n",
    "pf_factors['correlation_mom'].plot()\n",
    "pf_factors['correlation_value'].plot()\n",
    "plt.legend()"
   ]
  },
  {
   "cell_type": "code",
   "execution_count": 239,
   "metadata": {},
   "outputs": [
    {
     "name": "stdout",
     "output_type": "stream",
     "text": [
      "<class 'pandas.core.frame.DataFrame'>\n",
      "DatetimeIndex: 252 entries, 2016-01-04 to 2016-12-30\n",
      "Data columns (total 3 columns):\n",
      " #   Column        Non-Null Count  Dtype  \n",
      "---  ------        --------------  -----  \n",
      " 0   momentum      252 non-null    float64\n",
      " 1   value_factor  252 non-null    float64\n",
      " 2   portfolio     252 non-null    float64\n",
      "dtypes: float64(3)\n",
      "memory usage: 7.9 KB\n"
     ]
    }
   ],
   "source": [
    "factor_data = pf_factors.loc[:,['momentum', 'value_factor', 'portfolio']]\n",
    "factor_data.info()"
   ]
  },
  {
   "cell_type": "code",
   "execution_count": 240,
   "metadata": {},
   "outputs": [
    {
     "data": {
      "text/html": [
       "<div>\n",
       "<style scoped>\n",
       "    .dataframe tbody tr th:only-of-type {\n",
       "        vertical-align: middle;\n",
       "    }\n",
       "\n",
       "    .dataframe tbody tr th {\n",
       "        vertical-align: top;\n",
       "    }\n",
       "\n",
       "    .dataframe thead th {\n",
       "        text-align: right;\n",
       "    }\n",
       "</style>\n",
       "<table border=\"1\" class=\"dataframe\">\n",
       "  <thead>\n",
       "    <tr style=\"text-align: right;\">\n",
       "      <th></th>\n",
       "      <th>momentum</th>\n",
       "      <th>value_factor</th>\n",
       "      <th>portfolio</th>\n",
       "    </tr>\n",
       "  </thead>\n",
       "  <tbody>\n",
       "    <tr>\n",
       "      <th>momentum</th>\n",
       "      <td>1.000000</td>\n",
       "      <td>-0.363237</td>\n",
       "      <td>0.001012</td>\n",
       "    </tr>\n",
       "    <tr>\n",
       "      <th>value_factor</th>\n",
       "      <td>-0.363237</td>\n",
       "      <td>1.000000</td>\n",
       "      <td>0.767663</td>\n",
       "    </tr>\n",
       "    <tr>\n",
       "      <th>portfolio</th>\n",
       "      <td>0.001012</td>\n",
       "      <td>0.767663</td>\n",
       "      <td>1.000000</td>\n",
       "    </tr>\n",
       "  </tbody>\n",
       "</table>\n",
       "</div>"
      ],
      "text/plain": [
       "              momentum  value_factor  portfolio\n",
       "momentum      1.000000     -0.363237   0.001012\n",
       "value_factor -0.363237      1.000000   0.767663\n",
       "portfolio     0.001012      0.767663   1.000000"
      ]
     },
     "execution_count": 240,
     "metadata": {},
     "output_type": "execute_result"
    }
   ],
   "source": [
    "factor_data.corr()"
   ]
  },
  {
   "cell_type": "code",
   "execution_count": 241,
   "metadata": {},
   "outputs": [],
   "source": [
    "factor_data['correlation_value'] = factor_data['portfolio'].rolling(5).corr(factor_data['value_factor'])"
   ]
  },
  {
   "cell_type": "code",
   "execution_count": 242,
   "metadata": {},
   "outputs": [
    {
     "data": {
      "text/plain": [
       "<matplotlib.legend.Legend at 0x16a3c5d30>"
      ]
     },
     "execution_count": 242,
     "metadata": {},
     "output_type": "execute_result"
    },
    {
     "data": {
      "image/png": "[encoded data removed]",
      "text/plain": [
       "<Figure size 640x480 with 1 Axes>"
      ]
     },
     "metadata": {},
     "output_type": "display_data"
    }
   ],
   "source": [
    "factor_data['correlation_value'].plot()\n",
    "plt.legend()"
   ]
  },
  {
   "cell_type": "code",
   "execution_count": null,
   "metadata": {},
   "outputs": [],
   "source": []
  }
 ],
 "metadata": {
  "kernelspec": {
   "display_name": ".venv",
   "language": "python",
   "name": "python3"
  },
  "language_info": {
   "codemirror_mode": {
    "name": "ipython",
    "version": 3
   },
   "file_extension": ".py",
   "mimetype": "text/x-python",
   "name": "python",
   "nbconvert_exporter": "python",
   "pygments_lexer": "ipython3",
   "version": "3.9.16"
  },
  "orig_nbformat": 4
 },
 "nbformat": 4,
 "nbformat_minor": 2
}
