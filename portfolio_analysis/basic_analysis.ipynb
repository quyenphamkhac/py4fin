{
 "cells": [
  {
   "cell_type": "code",
   "execution_count": 51,
   "metadata": {},
   "outputs": [],
   "source": [
    "import pandas as pd\n",
    "import pandas_datareader.data as pdr\n",
    "from datetime import date\n",
    "import yfinance as yf\n",
    "import numpy as np\n",
    "import matplotlib.pyplot as plt\n",
    "%matplotlib inline"
   ]
  },
  {
   "cell_type": "code",
   "execution_count": 52,
   "metadata": {},
   "outputs": [],
   "source": [
    "yf.pdr_override()"
   ]
  },
  {
   "cell_type": "code",
   "execution_count": 53,
   "metadata": {},
   "outputs": [],
   "source": [
    "tickers = ['GOOG','AMZN','MSFT','AAPL']\n",
    "data_source = 'yahoo'"
   ]
  },
  {
   "cell_type": "code",
   "execution_count": 54,
   "metadata": {},
   "outputs": [],
   "source": [
    "start_date = date(2020, 1, 1)\n",
    "end_date = date(2023, 1, 1)"
   ]
  },
  {
   "cell_type": "code",
   "execution_count": 55,
   "metadata": {},
   "outputs": [
    {
     "name": "stdout",
     "output_type": "stream",
     "text": [
      "[*********************100%***********************]  4 of 4 completed\n"
     ]
    }
   ],
   "source": [
    "stock_prices = pdr.get_data_yahoo(tickers=tickers, start=start_date, end=end_date)\n",
    "stock_prices = stock_prices.stack()"
   ]
  },
  {
   "cell_type": "code",
   "execution_count": 56,
   "metadata": {},
   "outputs": [
    {
     "name": "stdout",
     "output_type": "stream",
     "text": [
      "<class 'pandas.core.frame.DataFrame'>\n",
      "DatetimeIndex: 756 entries, 2020-01-02 to 2022-12-30\n",
      "Data columns (total 4 columns):\n",
      " #   Column  Non-Null Count  Dtype  \n",
      "---  ------  --------------  -----  \n",
      " 0   AAPL    756 non-null    float64\n",
      " 1   AMZN    756 non-null    float64\n",
      " 2   GOOG    756 non-null    float64\n",
      " 3   MSFT    756 non-null    float64\n",
      "dtypes: float64(4)\n",
      "memory usage: 29.5 KB\n"
     ]
    }
   ],
   "source": [
    "data = stock_prices['Close'].unstack()\n",
    "data.info()"
   ]
  },
  {
   "cell_type": "code",
   "execution_count": 57,
   "metadata": {},
   "outputs": [],
   "source": [
    "daily_returns = data.pct_change()\n",
    "weights = np.array([0.05, 0.4, 0.3, 0.25])"
   ]
  },
  {
   "cell_type": "code",
   "execution_count": 58,
   "metadata": {},
   "outputs": [
    {
     "name": "stdout",
     "output_type": "stream",
     "text": [
      "          AAPL      AMZN      GOOG      MSFT\n",
      "AAPL  0.135354  0.094914  0.091602  0.103363\n",
      "AMZN  0.094914  0.151546  0.091062  0.094593\n",
      "GOOG  0.091602  0.091062  0.117196  0.097821\n",
      "MSFT  0.103363  0.094593  0.097821  0.119950\n"
     ]
    }
   ],
   "source": [
    "# Calculate the covariance matrix on daily returns\n",
    "# Note: 250 = 250 trading days in a year\n",
    "cov_matrix = (daily_returns.cov())*250\n",
    "print(cov_matrix)"
   ]
  },
  {
   "cell_type": "code",
   "execution_count": 59,
   "metadata": {},
   "outputs": [
    {
     "name": "stdout",
     "output_type": "stream",
     "text": [
      "32.74%\n"
     ]
    }
   ],
   "source": [
    "# Calculate the standard deviation by taking the square root\n",
    "port_standard_dev = np.sqrt(np.dot(weights.T, np.dot(cov_matrix, weights)))\n",
    "print(str(np.round(port_standard_dev, 4) * 100) + '%')"
   ]
  },
  {
   "cell_type": "code",
   "execution_count": 60,
   "metadata": {},
   "outputs": [
    {
     "name": "stdout",
     "output_type": "stream",
     "text": [
      "          AAPL      AMZN      GOOG      MSFT\n",
      "AAPL  0.135354  0.094914  0.091602  0.103363\n",
      "AMZN  0.094914  0.151546  0.091062  0.094593\n",
      "GOOG  0.091602  0.091062  0.117196  0.097821\n",
      "MSFT  0.103363  0.094593  0.097821  0.119950\n"
     ]
    }
   ],
   "source": [
    "print(cov_matrix)"
   ]
  },
  {
   "attachments": {},
   "cell_type": "markdown",
   "metadata": {},
   "source": [
    "## Comparing returns\n",
    "\n",
    "1. *Annual Return*: Total return earned over a period of one calendar year\n",
    "2. *Annualized return*: Yearly rate of return inferred from any time period\n",
    "3. *Average Return*:  Total return realized over a longer period, spread out evenly over the (shorter) periods.\n",
    "4. *Cumulative (compounding) return*: A return that includes the compounded results of re-investing, dividends, and capital gains."
   ]
  },
  {
   "attachments": {},
   "cell_type": "markdown",
   "metadata": {},
   "source": [
    "### Calculating annualized returns\n",
    "\n",
    "- **N in years**: rate = (1 + Return) ^ 1/N - 1\n",
    "- **N in months**: rate = (1 + Return) ^ 12/N - 1\n",
    "- Convert any time length to an annual rate\n",
    "- **Return** is total return you want to annualize\n",
    "- **N** is number of periods so far."
   ]
  },
  {
   "attachments": {},
   "cell_type": "markdown",
   "metadata": {},
   "source": [
    "### Annualized returns in python"
   ]
  },
  {
   "cell_type": "code",
   "execution_count": 61,
   "metadata": {},
   "outputs": [
    {
     "data": {
      "text/plain": [
       "Date\n",
       "2020-01-02    75.087502\n",
       "Name: AAPL, dtype: float64"
      ]
     },
     "execution_count": 61,
     "metadata": {},
     "output_type": "execute_result"
    }
   ],
   "source": [
    "apple_price = data['AAPL']\n",
    "\n",
    "apple_price.head(1)"
   ]
  },
  {
   "cell_type": "code",
   "execution_count": 62,
   "metadata": {},
   "outputs": [
    {
     "data": {
      "text/plain": [
       "Date\n",
       "2022-12-30    129.929993\n",
       "Name: AAPL, dtype: float64"
      ]
     },
     "execution_count": 62,
     "metadata": {},
     "output_type": "execute_result"
    }
   ],
   "source": [
    "apple_price.tail(1)"
   ]
  },
  {
   "cell_type": "code",
   "execution_count": 63,
   "metadata": {},
   "outputs": [],
   "source": [
    "months = 24"
   ]
  },
  {
   "cell_type": "code",
   "execution_count": 64,
   "metadata": {},
   "outputs": [
    {
     "name": "stdout",
     "output_type": "stream",
     "text": [
      "0.7303810892016547\n"
     ]
    }
   ],
   "source": [
    "# Calculate the total return\n",
    "total_return = (apple_price[-1] - apple_price[0]) / apple_price[0]\n",
    "\n",
    "print(total_return)"
   ]
  },
  {
   "cell_type": "code",
   "execution_count": 65,
   "metadata": {},
   "outputs": [
    {
     "name": "stdout",
     "output_type": "stream",
     "text": [
      "0.3154395041968501\n"
     ]
    }
   ],
   "source": [
    "annualized_return = ((1 + total_return)**(12/months)) - 1\n",
    "\n",
    "print(annualized_return)"
   ]
  },
  {
   "cell_type": "code",
   "execution_count": 66,
   "metadata": {},
   "outputs": [
    {
     "name": "stdout",
     "output_type": "stream",
     "text": [
      "AAPL 0.3154395041968501\n",
      "AMZN -0.059182474978833666\n",
      "GOOG 0.13921901150546678\n",
      "MSFT 0.2219203615755656\n"
     ]
    }
   ],
   "source": [
    "for col in data.columns:\n",
    "    total_return = (data[col].iloc[-1]  - data[col].iloc[0]) / data[col].iloc[0]\n",
    "    annualized_return = ((1 + total_return)**(12/months)) -1\n",
    "    print(col, annualized_return)"
   ]
  },
  {
   "attachments": {},
   "cell_type": "markdown",
   "metadata": {},
   "source": [
    "## Risk adjusted returns\n",
    "\n",
    "### Choose a portfolio ?\n",
    "**Portfolio 1**\n",
    "- Annual return of 14%\n",
    "- Volatility (standard deviation) is 8%\n",
    "\n",
    "**Portfolio 2**\n",
    "- Annual return of 6%\n",
    "- Volatility is 3%\n",
    "\n",
    "### About risk adjusted return\n",
    "- It defines an investment's return by measuring how much risk is involved in producting that return\n",
    "- It's usually a ratio\n",
    "- Allows you to objectively compare across different investment options\n",
    "- Tells you whether the return justifies the underlying risk\n",
    "\n",
    "### Sharpe ratio\n",
    "- Sharpe ratio is the most commonly used risk adjusted return ratio\n",
    "- It's calculated as follows\n",
    "- ***Sharpe ratio*** = (Rp - Rf) / Op\n",
    "- Where: *Rp* is the portfolio return, *Rf* is the risk free rate and *Op* is the portfolio standard deviation\n",
    "- ***Op*** = sqrt(Weights.T * (Covariance matrix * Weights))\n",
    "\n",
    "### Annualizing volatility\n",
    "- Annualized standard deviation is calculated as follows: Oa = Om * sqrt(T)\n",
    "- Om is the measured standard deviation\n",
    "- Oa is annualized standard deviation\n",
    "- T is the number of data points per year (250)"
   ]
  },
  {
   "attachments": {},
   "cell_type": "markdown",
   "metadata": {},
   "source": [
    "### Calculating the Sharpe Ratio"
   ]
  },
  {
   "cell_type": "code",
   "execution_count": 67,
   "metadata": {},
   "outputs": [],
   "source": [
    "apple_returns = apple_price.pct_change()"
   ]
  },
  {
   "cell_type": "code",
   "execution_count": 68,
   "metadata": {},
   "outputs": [
    {
     "name": "stdout",
     "output_type": "stream",
     "text": [
      "0.36790542445787827\n"
     ]
    }
   ],
   "source": [
    "annualized_vol = apple_returns.std() * np.sqrt(250)\n",
    "print(annualized_vol)"
   ]
  },
  {
   "cell_type": "code",
   "execution_count": 69,
   "metadata": {},
   "outputs": [],
   "source": [
    "risk_free = 0.01"
   ]
  },
  {
   "cell_type": "code",
   "execution_count": 70,
   "metadata": {},
   "outputs": [
    {
     "name": "stdout",
     "output_type": "stream",
     "text": [
      "0.3154395041968501\n"
     ]
    }
   ],
   "source": [
    "total_return = (apple_price[-1]  - apple_price[0]) / apple_price[0]\n",
    "annualized_return = ((1 + total_return)**(12/months)) - 1\n",
    "print(annualized_return)"
   ]
  },
  {
   "cell_type": "code",
   "execution_count": 71,
   "metadata": {},
   "outputs": [
    {
     "name": "stdout",
     "output_type": "stream",
     "text": [
      "0.8302120161640074\n"
     ]
    }
   ],
   "source": [
    "sharpe_ratio = (annualized_return - risk_free) / annualized_vol\n",
    "print(sharpe_ratio)"
   ]
  },
  {
   "attachments": {},
   "cell_type": "markdown",
   "metadata": {},
   "source": [
    "## Non-normal distribution of returns\n",
    "\n",
    "### Pearson's Coefficient of Skewness\n",
    "\n",
    "***Skewness*** = 3 * (mean - median) / (standard deviation)\n",
    "\n",
    "Rule of thumb:\n",
    "- *Skewnesss* < -1 or *Skewness > 1 -> Highly skewed distribution\n",
    "- -1 < *Skewness* < -0.5 or 0.5 < *Skewness* < 1 -> Moderately skewed distribution\n",
    "- -0.5 < *Skewness* < 0.5 -> Approximately symmetric distribution\n",
    "\n",
    "### Kurtosis: Fat tailed distribution\n",
    "### Interpreting kurtosis\n",
    "*\"Higher kurtosis means more of the variance is the result of infrequent extreme deviations, as opposed to frequent modestly deviations\"*\n",
    "\n",
    "- A normal distribution has kurtosis of exactly 3 and is called (mesokurtic)\n",
    "- A distribution with kurtosis <3 is called platykurtic. Tails are shorter and thinner, and central peak is lower and broader\n",
    "- A distribution with kurtosis >3 is called leptokurtic. Tails are longer and fatter, and central peak is higher and sharper **(fat tailed)**"
   ]
  },
  {
   "attachments": {},
   "cell_type": "markdown",
   "metadata": {},
   "source": [
    "### Calculating skewness and kurtosis"
   ]
  },
  {
   "cell_type": "code",
   "execution_count": 72,
   "metadata": {},
   "outputs": [
    {
     "data": {
      "text/plain": [
       "Date\n",
       "2020-01-02         NaN\n",
       "2020-01-03   -0.009722\n",
       "2020-01-06    0.007968\n",
       "Name: AAPL, dtype: float64"
      ]
     },
     "execution_count": 72,
     "metadata": {},
     "output_type": "execute_result"
    }
   ],
   "source": [
    "apple_returns.head(3)"
   ]
  },
  {
   "cell_type": "code",
   "execution_count": 73,
   "metadata": {},
   "outputs": [
    {
     "data": {
      "text/plain": [
       "<Axes: >"
      ]
     },
     "execution_count": 73,
     "metadata": {},
     "output_type": "execute_result"
    },
    {
     "data": {
      "image/png": "[encoded data removed]",
      "text/plain": [
       "<Figure size 640x480 with 1 Axes>"
      ]
     },
     "metadata": {},
     "output_type": "display_data"
    }
   ],
   "source": [
    "apple_returns.hist()"
   ]
  },
  {
   "cell_type": "code",
   "execution_count": 74,
   "metadata": {},
   "outputs": [
    {
     "name": "stdout",
     "output_type": "stream",
     "text": [
      "mean :  0.0009966930451517286\n",
      "vol :  0.023268382096358276\n",
      "skew :  0.09752757534172643\n",
      "kurt :  4.037640152069237\n"
     ]
    }
   ],
   "source": [
    "print(\"mean : \", apple_returns.mean())\n",
    "print(\"vol : \", apple_returns.std())\n",
    "print(\"skew : \", apple_returns.skew())\n",
    "print(\"kurt : \", apple_returns.kurtosis())"
   ]
  },
  {
   "cell_type": "code",
   "execution_count": null,
   "metadata": {},
   "outputs": [],
   "source": []
  }
 ],
 "metadata": {
  "kernelspec": {
   "display_name": ".venv",
   "language": "python",
   "name": "python3"
  },
  "language_info": {
   "codemirror_mode": {
    "name": "ipython",
    "version": 3
   },
   "file_extension": ".py",
   "mimetype": "text/x-python",
   "name": "python",
   "nbconvert_exporter": "python",
   "pygments_lexer": "ipython3",
   "version": "3.9.16"
  },
  "orig_nbformat": 4
 },
 "nbformat": 4,
 "nbformat_minor": 2
}
