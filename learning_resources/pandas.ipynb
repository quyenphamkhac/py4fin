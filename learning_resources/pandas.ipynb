{
  "cells": [
    {
      "cell_type": "markdown",
      "metadata": {
        "colab_type": "text",
        "id": "view-in-github"
      },
      "source": [
        "<a href=\"https://colab.research.google.com/github/quyenphamkhac/py4fin/blob/master/learning_resources/pandas.ipynb\" target=\"_parent\"><img src=\"https://colab.research.google.com/assets/colab-badge.svg\" alt=\"Open In Colab\"/></a>"
      ]
    },
    {
      "cell_type": "code",
      "execution_count": null,
      "metadata": {
        "id": "b9DxR-kjODVb"
      },
      "outputs": [],
      "source": [
        "import pandas as pd"
      ]
    },
    {
      "cell_type": "code",
      "execution_count": null,
      "metadata": {
        "id": "VlPsbl51ODVn"
      },
      "outputs": [],
      "source": [
        "df = pd.DataFrame([10, 20, 30, 40], columns=['numbers'],\n",
        "                  index=['a', 'b', 'c', 'd'])\n"
      ]
    },
    {
      "cell_type": "code",
      "execution_count": null,
      "metadata": {
        "colab": {
          "base_uri": "https://localhost:8080/",
          "height": 175
        },
        "id": "X1orT3JwODVo",
        "outputId": "1337d604-2b52-48a7-817d-bc35d127c104"
      },
      "outputs": [],
      "source": [
        "df"
      ]
    },
    {
      "cell_type": "code",
      "execution_count": null,
      "metadata": {
        "colab": {
          "base_uri": "https://localhost:8080/"
        },
        "id": "kFFLf0VWODVq",
        "outputId": "485ad646-3af2-4cf7-f51c-6bb277b9c452"
      },
      "outputs": [],
      "source": [
        "df.index"
      ]
    },
    {
      "cell_type": "code",
      "execution_count": null,
      "metadata": {
        "colab": {
          "base_uri": "https://localhost:8080/"
        },
        "id": "0CIk0Y61ODVr",
        "outputId": "06a09c46-370c-465c-a096-47960d10999a"
      },
      "outputs": [],
      "source": [
        "df.columns"
      ]
    },
    {
      "cell_type": "code",
      "execution_count": null,
      "metadata": {
        "colab": {
          "base_uri": "https://localhost:8080/"
        },
        "id": "nj4fQpghODVs",
        "outputId": "558744ad-e238-4aae-f957-9705b29111e3"
      },
      "outputs": [],
      "source": [
        "df.loc['a']"
      ]
    },
    {
      "cell_type": "code",
      "execution_count": null,
      "metadata": {
        "colab": {
          "base_uri": "https://localhost:8080/",
          "height": 112
        },
        "id": "wBUrFl0LODVt",
        "outputId": "e842ea21-a74a-4514-ffdc-827dce3452fe"
      },
      "outputs": [],
      "source": [
        "df.loc[['a', 'd']]"
      ]
    },
    {
      "cell_type": "code",
      "execution_count": null,
      "metadata": {
        "colab": {
          "base_uri": "https://localhost:8080/",
          "height": 112
        },
        "id": "v433e1qtODVx",
        "outputId": "ab2fb5b8-f17c-413a-cd35-80821a9a2dc7"
      },
      "outputs": [],
      "source": [
        "df.iloc[1:3]"
      ]
    },
    {
      "cell_type": "code",
      "execution_count": null,
      "metadata": {
        "colab": {
          "base_uri": "https://localhost:8080/"
        },
        "id": "Pr-KxWjqODVy",
        "outputId": "976c53db-83f8-4a13-bd86-e73e122c7856"
      },
      "outputs": [],
      "source": [
        "df.sum()"
      ]
    },
    {
      "cell_type": "code",
      "execution_count": null,
      "metadata": {
        "colab": {
          "base_uri": "https://localhost:8080/",
          "height": 175
        },
        "id": "i0etx1dEODVz",
        "outputId": "6166c6b4-5b8f-4929-840a-a22a20b99ca2"
      },
      "outputs": [],
      "source": [
        "df.apply(lambda x: x ** 2)\n"
      ]
    },
    {
      "cell_type": "code",
      "execution_count": null,
      "metadata": {
        "colab": {
          "base_uri": "https://localhost:8080/",
          "height": 175
        },
        "id": "hvhAzvN7ODV0",
        "outputId": "d8c46ff2-ab65-4f8a-cc04-7e498e69604c"
      },
      "outputs": [],
      "source": [
        "df ** 2"
      ]
    },
    {
      "cell_type": "code",
      "execution_count": null,
      "metadata": {
        "colab": {
          "base_uri": "https://localhost:8080/"
        },
        "id": "KJASf5UoODV1",
        "outputId": "75ac42f8-db55-4f31-f95b-bb7758b0701c"
      },
      "outputs": [],
      "source": [
        "type(df)"
      ]
    },
    {
      "cell_type": "code",
      "execution_count": null,
      "metadata": {
        "id": "1uymceX6ODV2"
      },
      "outputs": [],
      "source": [
        "df['floats'] = (1.5, 2.5, 3.5, 4.5)"
      ]
    },
    {
      "cell_type": "code",
      "execution_count": null,
      "metadata": {
        "colab": {
          "base_uri": "https://localhost:8080/",
          "height": 175
        },
        "id": "7OHbn6j9ODV7",
        "outputId": "b66a443c-60c0-4e2e-e698-3137675b3aeb"
      },
      "outputs": [],
      "source": [
        "df"
      ]
    },
    {
      "cell_type": "code",
      "execution_count": null,
      "metadata": {
        "colab": {
          "base_uri": "https://localhost:8080/"
        },
        "id": "GjC26EPJODV8",
        "outputId": "93d0446e-4dfc-451b-9abd-59cbbcad8709"
      },
      "outputs": [],
      "source": [
        "df['floats']"
      ]
    },
    {
      "cell_type": "code",
      "execution_count": null,
      "metadata": {
        "id": "FnlrMdI5ODV9"
      },
      "outputs": [],
      "source": [
        "df['names'] = pd.DataFrame(\n",
        "    ['Yves', 'Sandra', 'Lilli', 'Henry'], index=['d', 'a', 'b', 'c'])\n"
      ]
    },
    {
      "cell_type": "code",
      "execution_count": null,
      "metadata": {
        "colab": {
          "base_uri": "https://localhost:8080/",
          "height": 175
        },
        "id": "4cZOOfk3ODV9",
        "outputId": "5c91e779-30a9-403c-d5c0-695ce19813ca"
      },
      "outputs": [],
      "source": [
        "df"
      ]
    },
    {
      "cell_type": "code",
      "execution_count": null,
      "metadata": {
        "colab": {
          "base_uri": "https://localhost:8080/"
        },
        "id": "r1PcuqG2ODWF",
        "outputId": "aadc52d9-f976-41af-8d04-2d5950ca11ee"
      },
      "outputs": [],
      "source": [
        "type(df)"
      ]
    },
    {
      "cell_type": "code",
      "execution_count": null,
      "metadata": {
        "colab": {
          "base_uri": "https://localhost:8080/",
          "height": 175
        },
        "id": "v0kZhAYIODWG",
        "outputId": "f28586cd-fadb-43d6-ee9a-32a2fbf2e77e"
      },
      "outputs": [],
      "source": [
        "df"
      ]
    },
    {
      "cell_type": "code",
      "execution_count": null,
      "metadata": {
        "id": "7deqk6a3ODWH"
      },
      "outputs": [],
      "source": [
        "df = pd.concat(\n",
        "    [df, pd.DataFrame({'numbers': 100, 'floats': 5.75, 'names': 'Jil'}, index=['y'])])"
      ]
    },
    {
      "cell_type": "code",
      "execution_count": null,
      "metadata": {
        "colab": {
          "base_uri": "https://localhost:8080/",
          "height": 206
        },
        "id": "zbZgQbC6ODWI",
        "outputId": "d79d9c38-856f-4d4c-c852-57820babd089"
      },
      "outputs": [],
      "source": [
        "df"
      ]
    },
    {
      "cell_type": "code",
      "execution_count": null,
      "metadata": {
        "id": "6fk_c3IpODWJ"
      },
      "outputs": [],
      "source": [
        "df = pd.concat([df, pd.DataFrame({'names': 'Liz'}, index=['z',])], sort=False)"
      ]
    },
    {
      "cell_type": "code",
      "execution_count": null,
      "metadata": {
        "colab": {
          "base_uri": "https://localhost:8080/",
          "height": 237
        },
        "id": "yszAiZ_HODWJ",
        "outputId": "b2baf18a-880e-4407-ce68-2bd8734af94f"
      },
      "outputs": [],
      "source": [
        "df"
      ]
    },
    {
      "cell_type": "code",
      "execution_count": null,
      "metadata": {
        "colab": {
          "base_uri": "https://localhost:8080/"
        },
        "id": "dGj_EbrNODWK",
        "outputId": "1ac81e2a-e2bf-433a-fd66-86b5bbe76391"
      },
      "outputs": [],
      "source": [
        "df.dtypes"
      ]
    },
    {
      "cell_type": "code",
      "execution_count": null,
      "metadata": {
        "colab": {
          "base_uri": "https://localhost:8080/"
        },
        "id": "NsuyNeB0ODWK",
        "outputId": "79b03a6c-0876-46ba-bedf-23b8c55c3212"
      },
      "outputs": [],
      "source": [
        "df[['numbers', 'floats']].mean()"
      ]
    },
    {
      "cell_type": "code",
      "execution_count": null,
      "metadata": {
        "colab": {
          "base_uri": "https://localhost:8080/"
        },
        "id": "tQfRNsB-ODWL",
        "outputId": "c631a74b-f0e7-4359-ba39-14b35f1bac8a"
      },
      "outputs": [],
      "source": [
        "df[['numbers', 'floats']].std()"
      ]
    },
    {
      "cell_type": "code",
      "execution_count": null,
      "metadata": {
        "id": "aa84LAWjODWM"
      },
      "outputs": [],
      "source": [
        "import numpy as np"
      ]
    },
    {
      "cell_type": "code",
      "execution_count": null,
      "metadata": {
        "id": "UKyE_8ekODWM"
      },
      "outputs": [],
      "source": [
        "np.random.seed(100)"
      ]
    },
    {
      "cell_type": "code",
      "execution_count": null,
      "metadata": {
        "id": "bUhuTq4kODWN"
      },
      "outputs": [],
      "source": [
        "a = np.random.standard_normal((9, 4))\n"
      ]
    },
    {
      "cell_type": "code",
      "execution_count": null,
      "metadata": {
        "colab": {
          "base_uri": "https://localhost:8080/"
        },
        "id": "4e8j9FU1ODWN",
        "outputId": "c5b1aac0-6a86-4c87-f04d-688bc71896bb"
      },
      "outputs": [],
      "source": [
        "a"
      ]
    },
    {
      "cell_type": "code",
      "execution_count": null,
      "metadata": {
        "id": "KP8QviNYODWN"
      },
      "outputs": [],
      "source": [
        "df = pd.DataFrame(a)"
      ]
    },
    {
      "cell_type": "code",
      "execution_count": null,
      "metadata": {
        "colab": {
          "base_uri": "https://localhost:8080/",
          "height": 331
        },
        "id": "0tSbSVvlODWN",
        "outputId": "a201ad99-14dd-44f1-b5ac-4d8a3465f42c"
      },
      "outputs": [],
      "source": [
        "df"
      ]
    },
    {
      "cell_type": "code",
      "execution_count": null,
      "metadata": {
        "id": "fbCIMhgWODWO"
      },
      "outputs": [],
      "source": [
        "df.columns = ['No1', 'No2', 'No3', 'No4']"
      ]
    },
    {
      "cell_type": "code",
      "execution_count": null,
      "metadata": {
        "colab": {
          "base_uri": "https://localhost:8080/",
          "height": 331
        },
        "id": "J9XKcFjSODWO",
        "outputId": "04b54c74-8fd6-46af-b7f7-f4a996cc2718"
      },
      "outputs": [],
      "source": [
        "df"
      ]
    },
    {
      "cell_type": "code",
      "execution_count": null,
      "metadata": {
        "colab": {
          "base_uri": "https://localhost:8080/"
        },
        "id": "bTvjzxeGODWS",
        "outputId": "052a6884-e700-4070-9af1-e2ef2b82d641"
      },
      "outputs": [],
      "source": [
        "df['No2'].mean()"
      ]
    },
    {
      "cell_type": "code",
      "execution_count": null,
      "metadata": {
        "id": "w9huo-LfODWT"
      },
      "outputs": [],
      "source": [
        "dates = pd.date_range('2019-1-1', periods=9, freq='BM')\n"
      ]
    },
    {
      "cell_type": "code",
      "execution_count": null,
      "metadata": {
        "colab": {
          "base_uri": "https://localhost:8080/"
        },
        "id": "70uyhwSIODWT",
        "outputId": "03a7d6b8-3c9d-4bef-c267-df5beaec31c0"
      },
      "outputs": [],
      "source": [
        "dates"
      ]
    },
    {
      "cell_type": "code",
      "execution_count": null,
      "metadata": {
        "id": "0CqrLKCoODWU"
      },
      "outputs": [],
      "source": [
        "df.index = dates"
      ]
    },
    {
      "cell_type": "code",
      "execution_count": null,
      "metadata": {
        "colab": {
          "base_uri": "https://localhost:8080/",
          "height": 331
        },
        "id": "TPtMhVDKODWV",
        "outputId": "1267c6cc-3584-4c3c-9f5d-ec63b4782587"
      },
      "outputs": [],
      "source": [
        "df"
      ]
    },
    {
      "cell_type": "code",
      "execution_count": null,
      "metadata": {
        "colab": {
          "base_uri": "https://localhost:8080/"
        },
        "id": "mArpwuWrODWV",
        "outputId": "80578bd1-bccb-4a14-93d6-eb8be251b837"
      },
      "outputs": [],
      "source": [
        "df.values"
      ]
    },
    {
      "cell_type": "code",
      "execution_count": null,
      "metadata": {
        "colab": {
          "base_uri": "https://localhost:8080/"
        },
        "id": "6z14epCPODWW",
        "outputId": "825920d8-357b-4859-e8a6-8fffd071e5b6"
      },
      "outputs": [],
      "source": [
        "df.value_counts"
      ]
    },
    {
      "cell_type": "code",
      "execution_count": null,
      "metadata": {
        "colab": {
          "base_uri": "https://localhost:8080/"
        },
        "id": "LpB7bEfpODWW",
        "outputId": "f02f29c5-a44a-44d9-8480-02a74ee9de9f"
      },
      "outputs": [],
      "source": [
        "np.array(df)"
      ]
    },
    {
      "cell_type": "code",
      "execution_count": null,
      "metadata": {
        "colab": {
          "base_uri": "https://localhost:8080/"
        },
        "id": "Hb2QWnFRODWX",
        "outputId": "609f182c-64ad-4d5e-f08f-ab2ad4a3bda6"
      },
      "outputs": [],
      "source": [
        "df.info()"
      ]
    },
    {
      "cell_type": "code",
      "execution_count": null,
      "metadata": {
        "colab": {
          "base_uri": "https://localhost:8080/",
          "height": 300
        },
        "id": "znpyCPG1ODWY",
        "outputId": "da935586-60f3-4a49-ae11-5667707fbeb0"
      },
      "outputs": [],
      "source": [
        "df.describe()"
      ]
    },
    {
      "cell_type": "code",
      "execution_count": null,
      "metadata": {
        "colab": {
          "base_uri": "https://localhost:8080/"
        },
        "id": "ys2UkyobODWY",
        "outputId": "b9f8d8a1-67db-45e0-d39e-3b221caa5497"
      },
      "outputs": [],
      "source": [
        "df.sum()"
      ]
    },
    {
      "cell_type": "code",
      "execution_count": null,
      "metadata": {
        "colab": {
          "base_uri": "https://localhost:8080/"
        },
        "id": "1K3jNvDZODWZ",
        "outputId": "b099d5dd-6b20-4cd1-c767-b0c7730cea2e"
      },
      "outputs": [],
      "source": [
        "df.mean()"
      ]
    },
    {
      "cell_type": "code",
      "execution_count": null,
      "metadata": {
        "colab": {
          "base_uri": "https://localhost:8080/"
        },
        "id": "M2PIjaZrODWZ",
        "outputId": "4ab08810-5bb2-4a92-f344-92206b31065b"
      },
      "outputs": [],
      "source": [
        "df.mean(axis=0)"
      ]
    },
    {
      "cell_type": "code",
      "execution_count": null,
      "metadata": {
        "colab": {
          "base_uri": "https://localhost:8080/"
        },
        "id": "Iuzn8NROODWZ",
        "outputId": "a28baab9-0237-4046-fbb9-20e18b6783ce"
      },
      "outputs": [],
      "source": [
        "df.mean(axis=1)"
      ]
    },
    {
      "cell_type": "code",
      "execution_count": null,
      "metadata": {
        "colab": {
          "base_uri": "https://localhost:8080/",
          "height": 331
        },
        "id": "6XZFWHhbODWa",
        "outputId": "cbe5ae60-129a-4fda-f222-d1d4f971cf9e"
      },
      "outputs": [],
      "source": [
        "df"
      ]
    },
    {
      "cell_type": "code",
      "execution_count": null,
      "metadata": {
        "colab": {
          "base_uri": "https://localhost:8080/",
          "height": 331
        },
        "id": "q0O88g_ZODWa",
        "outputId": "a6e3cdf4-3f3a-4c61-dd57-31b1a68b828f"
      },
      "outputs": [],
      "source": [
        "df.cumsum()"
      ]
    },
    {
      "cell_type": "code",
      "execution_count": null,
      "metadata": {
        "colab": {
          "base_uri": "https://localhost:8080/"
        },
        "id": "Podx7s9gODWa",
        "outputId": "d2ee58ac-28f1-4fa4-b968-ee1493166872"
      },
      "outputs": [],
      "source": [
        "np.mean(df, axis=0)"
      ]
    },
    {
      "cell_type": "code",
      "execution_count": null,
      "metadata": {
        "colab": {
          "base_uri": "https://localhost:8080/",
          "height": 366
        },
        "id": "CmZ1HPaaODWb",
        "outputId": "f282fbe0-97ce-459d-97a7-08bf91fa23ac"
      },
      "outputs": [],
      "source": [
        "np.log(df)"
      ]
    },
    {
      "cell_type": "code",
      "execution_count": null,
      "metadata": {
        "colab": {
          "base_uri": "https://localhost:8080/",
          "height": 331
        },
        "id": "PisPpIVnODWb",
        "outputId": "f57ef74d-1f71-4b39-a7e0-8116bcb0fd63"
      },
      "outputs": [],
      "source": [
        "np.sqrt(abs(df))"
      ]
    },
    {
      "cell_type": "code",
      "execution_count": null,
      "metadata": {
        "colab": {
          "base_uri": "https://localhost:8080/"
        },
        "id": "qW97LUwXODWb",
        "outputId": "2af58519-1c73-4285-fff3-0c298e6e01a6"
      },
      "outputs": [],
      "source": [
        "np.sqrt(abs(df)).sum()"
      ]
    },
    {
      "cell_type": "code",
      "execution_count": null,
      "metadata": {
        "colab": {
          "base_uri": "https://localhost:8080/",
          "height": 331
        },
        "id": "XxPz7nX_ODWb",
        "outputId": "8895a456-c38a-46f2-a254-b19d7a2b0661"
      },
      "outputs": [],
      "source": [
        "100 * df + 100"
      ]
    },
    {
      "cell_type": "code",
      "execution_count": null,
      "metadata": {
        "id": "v9X-_qi-ODWc"
      },
      "outputs": [],
      "source": [
        "from pylab import plt, mpl\n",
        "plt.style.use('seaborn-v0_8')\n",
        "mpl.rcParams['font.family'] = 'serif'\n",
        "%matplotlib inline"
      ]
    },
    {
      "cell_type": "code",
      "execution_count": null,
      "metadata": {
        "colab": {
          "base_uri": "https://localhost:8080/",
          "height": 555
        },
        "id": "fOWdtBm-ODWc",
        "outputId": "fecbb104-3f8b-410b-bd75-7532076212d7"
      },
      "outputs": [],
      "source": [
        "df.cumsum().plot(lw=2.0, figsize=(10, 6))"
      ]
    },
    {
      "cell_type": "code",
      "execution_count": null,
      "metadata": {
        "colab": {
          "base_uri": "https://localhost:8080/",
          "height": 577
        },
        "id": "NkGQt5Z6ODWc",
        "outputId": "c0f71147-2490-432a-cd15-79b808e35b31"
      },
      "outputs": [],
      "source": [
        "df.plot.bar(figsize=(10, 6), rot=15)"
      ]
    },
    {
      "cell_type": "code",
      "execution_count": null,
      "metadata": {
        "colab": {
          "base_uri": "https://localhost:8080/",
          "height": 671
        },
        "id": "PVQZiCchODWc",
        "outputId": "658e9fbb-f664-463a-b687-88631355975d"
      },
      "outputs": [],
      "source": [
        "df.plot(kind='bar', figsize=(10, 6))"
      ]
    },
    {
      "cell_type": "code",
      "execution_count": null,
      "metadata": {
        "colab": {
          "base_uri": "https://localhost:8080/"
        },
        "id": "s8AXqXDtODWc",
        "outputId": "c5a72000-2c39-4509-923a-c8a4ef2c4d0c"
      },
      "outputs": [],
      "source": [
        "type(df)"
      ]
    },
    {
      "cell_type": "code",
      "execution_count": null,
      "metadata": {
        "id": "LT4cCepVOu1W"
      },
      "outputs": [],
      "source": [
        "S = pd.Series(np.linspace(0, 15, 7), name='series')"
      ]
    },
    {
      "cell_type": "code",
      "execution_count": null,
      "metadata": {
        "colab": {
          "base_uri": "https://localhost:8080/"
        },
        "id": "MasOv-oMPUit",
        "outputId": "eab297f3-e469-4fbb-f8d4-f6958ce37460"
      },
      "outputs": [],
      "source": [
        "S"
      ]
    },
    {
      "cell_type": "code",
      "execution_count": null,
      "metadata": {
        "colab": {
          "base_uri": "https://localhost:8080/"
        },
        "id": "w9Cs-OtHPVQ7",
        "outputId": "cb50818a-85ad-404b-ae57-6b80b2ddc6c3"
      },
      "outputs": [],
      "source": [
        "type(S)"
      ]
    },
    {
      "cell_type": "code",
      "execution_count": null,
      "metadata": {
        "id": "I6sdGWDiPXNg"
      },
      "outputs": [],
      "source": [
        "s = df['No1']"
      ]
    },
    {
      "cell_type": "code",
      "execution_count": null,
      "metadata": {
        "colab": {
          "base_uri": "https://localhost:8080/"
        },
        "id": "3N7kP5iHPbbs",
        "outputId": "4e820505-dc0d-4860-bedb-6e30df50bc0d"
      },
      "outputs": [],
      "source": [
        "s"
      ]
    },
    {
      "cell_type": "code",
      "execution_count": null,
      "metadata": {
        "colab": {
          "base_uri": "https://localhost:8080/"
        },
        "id": "cB7FmZo5Pb3L",
        "outputId": "c2ecfab1-a6ea-4d09-e559-15df18b8e666"
      },
      "outputs": [],
      "source": [
        "type(s)"
      ]
    },
    {
      "cell_type": "code",
      "execution_count": null,
      "metadata": {
        "colab": {
          "base_uri": "https://localhost:8080/"
        },
        "id": "nPuYao6jPlfi",
        "outputId": "c06995af-3751-4960-d4c1-0e76f9571137"
      },
      "outputs": [],
      "source": [
        "s.mean()"
      ]
    },
    {
      "cell_type": "code",
      "execution_count": null,
      "metadata": {
        "colab": {
          "base_uri": "https://localhost:8080/",
          "height": 555
        },
        "id": "rQd2NmnYQs7A",
        "outputId": "2dce4368-5a0b-4ed0-e8a3-f5972fddf61a"
      },
      "outputs": [],
      "source": [
        "s.plot(lw=2.0, figsize=(10, 6))"
      ]
    },
    {
      "cell_type": "code",
      "execution_count": null,
      "metadata": {
        "id": "Q5Z5hoYxQ2vM"
      },
      "outputs": [],
      "source": [
        "df['Quarter'] = ['Q1', 'Q1', 'Q1', 'Q2', 'Q2','Q2', 'Q3', 'Q3', 'Q3']"
      ]
    },
    {
      "cell_type": "code",
      "execution_count": null,
      "metadata": {
        "colab": {
          "base_uri": "https://localhost:8080/",
          "height": 331
        },
        "id": "iYsh_QtNRf4C",
        "outputId": "5461d976-5cac-4578-903a-b4347c12d321"
      },
      "outputs": [],
      "source": [
        "df"
      ]
    },
    {
      "cell_type": "code",
      "execution_count": null,
      "metadata": {
        "id": "-QPdmVxoRhA9"
      },
      "outputs": [],
      "source": [
        "groups = df.groupby('Quarter')"
      ]
    },
    {
      "cell_type": "code",
      "execution_count": null,
      "metadata": {
        "colab": {
          "base_uri": "https://localhost:8080/"
        },
        "id": "KcmNCe1xSF5z",
        "outputId": "0e5068fa-a29a-4384-f870-5c4f9b6de259"
      },
      "outputs": [],
      "source": [
        "groups.size()"
      ]
    },
    {
      "cell_type": "code",
      "execution_count": null,
      "metadata": {
        "colab": {
          "base_uri": "https://localhost:8080/",
          "height": 175
        },
        "id": "bGaRxWQmSHo1",
        "outputId": "7c70e275-4f3f-436a-964d-c8b01f02afc0"
      },
      "outputs": [],
      "source": [
        "groups.mean()"
      ]
    },
    {
      "cell_type": "code",
      "execution_count": null,
      "metadata": {
        "colab": {
          "base_uri": "https://localhost:8080/",
          "height": 175
        },
        "id": "fLOycZK_SrIb",
        "outputId": "d83d389c-b830-4495-f5d8-7dba2c4e1b2e"
      },
      "outputs": [],
      "source": [
        "groups.max()"
      ]
    },
    {
      "cell_type": "code",
      "execution_count": null,
      "metadata": {
        "colab": {
          "base_uri": "https://localhost:8080/",
          "height": 206
        },
        "id": "QgQPbA1bSsH-",
        "outputId": "e3fd475d-eb09-4604-d34f-f6acb91a9bb2"
      },
      "outputs": [],
      "source": [
        "groups.aggregate([min, max]).round(2)"
      ]
    },
    {
      "cell_type": "code",
      "execution_count": null,
      "metadata": {
        "id": "cCkIiZ6fS2KX"
      },
      "outputs": [],
      "source": [
        "df['Odd_Even'] = ['Odd', 'Even', 'Odd', 'Even', 'Odd', 'Even', 'Odd', 'Even', 'Odd']"
      ]
    },
    {
      "cell_type": "code",
      "execution_count": null,
      "metadata": {
        "id": "MxlQFx_OTxCK"
      },
      "outputs": [],
      "source": [
        "groups = df.groupby(['Quarter', 'Odd_Even'])"
      ]
    },
    {
      "cell_type": "code",
      "execution_count": null,
      "metadata": {
        "colab": {
          "base_uri": "https://localhost:8080/"
        },
        "id": "fCCqvJdtUGg_",
        "outputId": "41091f2a-b4da-4372-9c31-6edaf3d6ad99"
      },
      "outputs": [],
      "source": [
        "groups.size()"
      ]
    },
    {
      "cell_type": "code",
      "execution_count": null,
      "metadata": {
        "colab": {
          "base_uri": "https://localhost:8080/",
          "height": 300
        },
        "id": "qjsaoAKZUIz9",
        "outputId": "24904e7d-7052-4827-8dfe-097c11b81197"
      },
      "outputs": [],
      "source": [
        "groups[['No1', 'No4']].aggregate([sum, np.mean])"
      ]
    },
    {
      "cell_type": "code",
      "execution_count": null,
      "metadata": {
        "id": "S8nc5RSeUWXi"
      },
      "outputs": [],
      "source": [
        "data = np.random.standard_normal((10, 2))"
      ]
    },
    {
      "cell_type": "code",
      "execution_count": null,
      "metadata": {
        "id": "-I_p_2VxU6dJ"
      },
      "outputs": [],
      "source": [
        "df = pd.DataFrame(data, columns=['x', 'y'])"
      ]
    },
    {
      "cell_type": "code",
      "execution_count": null,
      "metadata": {
        "colab": {
          "base_uri": "https://localhost:8080/"
        },
        "id": "oQHVlOkTVCep",
        "outputId": "5b10f5e9-52ab-4764-b27b-fe13b6c9d849"
      },
      "outputs": [],
      "source": [
        "df.info()"
      ]
    },
    {
      "cell_type": "code",
      "execution_count": null,
      "metadata": {
        "colab": {
          "base_uri": "https://localhost:8080/",
          "height": 206
        },
        "id": "0ohoOTHKVEn9",
        "outputId": "f0e023d4-16d7-416f-c1b9-c53e6b3c6c90"
      },
      "outputs": [],
      "source": [
        "df.head()"
      ]
    },
    {
      "cell_type": "code",
      "execution_count": null,
      "metadata": {
        "colab": {
          "base_uri": "https://localhost:8080/",
          "height": 206
        },
        "id": "4gQfI4PiVJEc",
        "outputId": "5f038f5f-d159-4a11-9e86-d424f1106fcb"
      },
      "outputs": [],
      "source": [
        "df.tail()"
      ]
    },
    {
      "cell_type": "code",
      "execution_count": null,
      "metadata": {
        "colab": {
          "base_uri": "https://localhost:8080/"
        },
        "id": "MqFyT5DeVNAm",
        "outputId": "7f01125a-c5cb-48c0-c328-03b36f404143"
      },
      "outputs": [],
      "source": [
        "df['x'] > 0.5"
      ]
    },
    {
      "cell_type": "code",
      "execution_count": null,
      "metadata": {
        "colab": {
          "base_uri": "https://localhost:8080/"
        },
        "id": "Z0AHe37BWrIC",
        "outputId": "6ec79cd9-566d-4771-e454-ca7f0e26dc6a"
      },
      "outputs": [],
      "source": [
        "(df['x'] > 0) & (df['y'] < 0)"
      ]
    },
    {
      "cell_type": "code",
      "execution_count": null,
      "metadata": {
        "colab": {
          "base_uri": "https://localhost:8080/"
        },
        "id": "iwxHmvKmW1CD",
        "outputId": "9506ec97-a823-40ee-a912-2b4bd76a2a64"
      },
      "outputs": [],
      "source": [
        "(df['x'] > 0) | (df['y'] < 0)"
      ]
    },
    {
      "cell_type": "code",
      "execution_count": null,
      "metadata": {
        "colab": {
          "base_uri": "https://localhost:8080/",
          "height": 175
        },
        "id": "Yrp7iQpsW4Ua",
        "outputId": "e6b84f78-b5db-49c0-b952-683721084020"
      },
      "outputs": [],
      "source": [
        "df[df['x'] > 0]"
      ]
    },
    {
      "cell_type": "code",
      "execution_count": null,
      "metadata": {
        "colab": {
          "base_uri": "https://localhost:8080/",
          "height": 175
        },
        "id": "4NjnKn8CXB8h",
        "outputId": "6182044e-7203-4ddb-ac37-860e0ead163e"
      },
      "outputs": [],
      "source": [
        "df.query('x > 0')"
      ]
    },
    {
      "cell_type": "code",
      "execution_count": null,
      "metadata": {
        "colab": {
          "base_uri": "https://localhost:8080/",
          "height": 143
        },
        "id": "-wCLS6N0YHh9",
        "outputId": "90ac742c-e58b-4725-be2c-91f4bffa319f"
      },
      "outputs": [],
      "source": [
        "df[(df['x'] > 0) & (df['y'] < 0)]"
      ]
    },
    {
      "cell_type": "code",
      "execution_count": null,
      "metadata": {
        "colab": {
          "base_uri": "https://localhost:8080/",
          "height": 143
        },
        "id": "teoAjgihYMXo",
        "outputId": "8c9a34f1-f39a-4218-95a8-2e53daa06477"
      },
      "outputs": [],
      "source": [
        "df.query('x > 0 & y < 0')"
      ]
    },
    {
      "cell_type": "code",
      "execution_count": null,
      "metadata": {
        "colab": {
          "base_uri": "https://localhost:8080/",
          "height": 300
        },
        "id": "ny5m9bBLYujr",
        "outputId": "943e9a90-d29b-4233-b0e3-612f0b7d9366"
      },
      "outputs": [],
      "source": [
        "df[(df.x > 0) | (df.y < 0)]"
      ]
    },
    {
      "cell_type": "code",
      "execution_count": null,
      "metadata": {
        "colab": {
          "base_uri": "https://localhost:8080/",
          "height": 300
        },
        "id": "lMIY4hVAYxsx",
        "outputId": "abf3354d-c8a1-4131-a58a-54424657e32b"
      },
      "outputs": [],
      "source": [
        "df.query('x > 0 | y < 0')"
      ]
    },
    {
      "cell_type": "code",
      "execution_count": null,
      "metadata": {
        "colab": {
          "base_uri": "https://localhost:8080/",
          "height": 363
        },
        "id": "RxykWFvOZJI_",
        "outputId": "1a6e912b-b250-4dac-fcf6-f2c5120e3011"
      },
      "outputs": [],
      "source": [
        "df > 0"
      ]
    },
    {
      "cell_type": "code",
      "execution_count": null,
      "metadata": {
        "colab": {
          "base_uri": "https://localhost:8080/",
          "height": 363
        },
        "id": "iELGW8WtZLV9",
        "outputId": "00da6641-2a77-4753-f13e-388b04ad71b3"
      },
      "outputs": [],
      "source": [
        "df[df > 0]"
      ]
    },
    {
      "cell_type": "code",
      "execution_count": null,
      "metadata": {
        "id": "n_KBccjVZM3j"
      },
      "outputs": [],
      "source": [
        "df1 = pd.DataFrame(['100', '200', '300', '400'], index=['a', 'b', 'c', 'd'], columns=['A',])"
      ]
    },
    {
      "cell_type": "code",
      "execution_count": null,
      "metadata": {
        "colab": {
          "base_uri": "https://localhost:8080/",
          "height": 175
        },
        "id": "sI9Ty7rkcHcy",
        "outputId": "300d0744-3626-4c14-c8a4-6fdc45b4de1e"
      },
      "outputs": [],
      "source": [
        "df1"
      ]
    },
    {
      "cell_type": "code",
      "execution_count": null,
      "metadata": {
        "id": "Y8W_VRizcIXO"
      },
      "outputs": [],
      "source": [
        "df2 = pd.DataFrame(['200', '150', '50'], index=['f', 'b', 'd'], columns=['B',])"
      ]
    },
    {
      "cell_type": "code",
      "execution_count": null,
      "metadata": {
        "colab": {
          "base_uri": "https://localhost:8080/",
          "height": 143
        },
        "id": "8gubRbCBcXsF",
        "outputId": "cf737a10-9443-4cfa-e492-08f85f1276aa"
      },
      "outputs": [],
      "source": [
        "df2"
      ]
    },
    {
      "cell_type": "code",
      "execution_count": null,
      "metadata": {
        "colab": {
          "base_uri": "https://localhost:8080/",
          "height": 269
        },
        "id": "8kXxtGWucaO4",
        "outputId": "a06f96e3-0c67-4839-8bf1-91393256fa60"
      },
      "outputs": [],
      "source": [
        "pd.concat((df1, df2), sort=False)"
      ]
    },
    {
      "cell_type": "code",
      "execution_count": null,
      "metadata": {
        "colab": {
          "base_uri": "https://localhost:8080/",
          "height": 269
        },
        "id": "vBru0gUJc-jQ",
        "outputId": "0e324db6-d25c-4942-ba7a-2d5ccd4d4826"
      },
      "outputs": [],
      "source": [
        "pd.concat((df1, df2), ignore_index=True, sort=False)"
      ]
    },
    {
      "cell_type": "code",
      "execution_count": null,
      "metadata": {
        "colab": {
          "base_uri": "https://localhost:8080/",
          "height": 175
        },
        "id": "nbhlBQOgdGNR",
        "outputId": "c6303c6d-a4e5-4e74-e4d4-05208122f9a0"
      },
      "outputs": [],
      "source": [
        "df1.join(df2)"
      ]
    },
    {
      "cell_type": "code",
      "execution_count": null,
      "metadata": {
        "colab": {
          "base_uri": "https://localhost:8080/",
          "height": 143
        },
        "id": "P1ljNz5YdT44",
        "outputId": "07e59596-182c-4209-f9b9-b9eefefa3095"
      },
      "outputs": [],
      "source": [
        "df2.join(df1)"
      ]
    },
    {
      "cell_type": "code",
      "execution_count": null,
      "metadata": {
        "colab": {
          "base_uri": "https://localhost:8080/",
          "height": 175
        },
        "id": "3pVY7fuudWnm",
        "outputId": "1022f527-334f-4847-dea8-ff638fe56cb0"
      },
      "outputs": [],
      "source": [
        "df1.join(df2, how='left')"
      ]
    },
    {
      "cell_type": "code",
      "execution_count": null,
      "metadata": {
        "colab": {
          "base_uri": "https://localhost:8080/",
          "height": 143
        },
        "id": "oUxVgcgadtEN",
        "outputId": "ff0faebd-6e60-4cc9-edd1-d860eecabfeb"
      },
      "outputs": [],
      "source": [
        "df1.join(df2, how='right')"
      ]
    },
    {
      "cell_type": "code",
      "execution_count": null,
      "metadata": {
        "colab": {
          "base_uri": "https://localhost:8080/",
          "height": 112
        },
        "id": "ylZMRuZxdwSa",
        "outputId": "2d2d9b15-0bad-4c1c-a3fb-a648f36ca0ea"
      },
      "outputs": [],
      "source": [
        "df1.join(df2, how='inner')"
      ]
    },
    {
      "cell_type": "code",
      "execution_count": null,
      "metadata": {
        "colab": {
          "base_uri": "https://localhost:8080/",
          "height": 206
        },
        "id": "Ta8eHRhId0_E",
        "outputId": "b383212f-9a8d-4b2f-acde-c5bc2782bcd8"
      },
      "outputs": [],
      "source": [
        "df1.join(df2, how='outer')"
      ]
    },
    {
      "cell_type": "code",
      "execution_count": null,
      "metadata": {
        "id": "7n8urjivd7jU"
      },
      "outputs": [],
      "source": [
        "df = pd.DataFrame()"
      ]
    },
    {
      "cell_type": "code",
      "execution_count": null,
      "metadata": {
        "id": "nuKbHFO_faDg"
      },
      "outputs": [],
      "source": [
        "df['A'] = df1['A']"
      ]
    },
    {
      "cell_type": "code",
      "execution_count": null,
      "metadata": {
        "colab": {
          "base_uri": "https://localhost:8080/",
          "height": 175
        },
        "id": "FlzlVAfZfdPC",
        "outputId": "b84883fe-8949-450e-97a4-e99402fafa6e"
      },
      "outputs": [],
      "source": [
        "df"
      ]
    },
    {
      "cell_type": "code",
      "execution_count": null,
      "metadata": {
        "id": "CoiwKgImfd6O"
      },
      "outputs": [],
      "source": [
        "df['B'] = df2['B']"
      ]
    },
    {
      "cell_type": "code",
      "execution_count": null,
      "metadata": {
        "colab": {
          "base_uri": "https://localhost:8080/",
          "height": 175
        },
        "id": "1CjWPKbufhoe",
        "outputId": "c6952fb4-c0cb-43c7-c2ae-b39c86cdf8e6"
      },
      "outputs": [],
      "source": [
        "df"
      ]
    },
    {
      "cell_type": "code",
      "execution_count": null,
      "metadata": {
        "id": "qGpbhg6dfiLB"
      },
      "outputs": [],
      "source": [
        "df = pd.DataFrame({'A': df1['A'], 'B': df2['B']})"
      ]
    },
    {
      "cell_type": "code",
      "execution_count": null,
      "metadata": {
        "colab": {
          "base_uri": "https://localhost:8080/",
          "height": 206
        },
        "id": "EFJOsFfGfuQw",
        "outputId": "d2ac27f9-7b3b-456d-b461-9c2e723ab132"
      },
      "outputs": [],
      "source": [
        "df"
      ]
    },
    {
      "cell_type": "code",
      "execution_count": null,
      "metadata": {
        "id": "XjVN3GsXfu29"
      },
      "outputs": [],
      "source": [
        "c = pd.Series([250, 150, 50], index=['b', 'd', 'c'])"
      ]
    },
    {
      "cell_type": "code",
      "execution_count": null,
      "metadata": {
        "id": "Zmt028byg3qx"
      },
      "outputs": [],
      "source": [
        "df1['C'] = c\n",
        "df2['C'] = c"
      ]
    },
    {
      "cell_type": "code",
      "execution_count": null,
      "metadata": {
        "colab": {
          "base_uri": "https://localhost:8080/",
          "height": 175
        },
        "id": "Hr5ifYrgg8_Q",
        "outputId": "044dde70-4ba5-40b0-eed8-c79415835151"
      },
      "outputs": [],
      "source": [
        "df1"
      ]
    },
    {
      "cell_type": "code",
      "execution_count": null,
      "metadata": {
        "colab": {
          "base_uri": "https://localhost:8080/",
          "height": 143
        },
        "id": "PqUCR8jcg-gG",
        "outputId": "dbcabde2-777e-42e0-d969-f7b46a256b35"
      },
      "outputs": [],
      "source": [
        "df2"
      ]
    },
    {
      "cell_type": "code",
      "execution_count": null,
      "metadata": {
        "colab": {
          "base_uri": "https://localhost:8080/",
          "height": 143
        },
        "id": "0TLkmOhYg_v3",
        "outputId": "37731489-3c6b-46a8-dd38-5bc7901fef59"
      },
      "outputs": [],
      "source": [
        "pd.merge(df1, df2)"
      ]
    },
    {
      "cell_type": "code",
      "execution_count": null,
      "metadata": {
        "colab": {
          "base_uri": "https://localhost:8080/",
          "height": 143
        },
        "id": "VNIXpYEXhdVG",
        "outputId": "39ca2e8a-aee4-4775-bdf4-25ddf2dae936"
      },
      "outputs": [],
      "source": [
        "pd.merge(df1, df2, on='C')"
      ]
    },
    {
      "cell_type": "code",
      "execution_count": null,
      "metadata": {
        "colab": {
          "base_uri": "https://localhost:8080/",
          "height": 175
        },
        "id": "YPcNsigchuPv",
        "outputId": "553992f1-6205-428f-d8cf-bace309599de"
      },
      "outputs": [],
      "source": [
        "pd.merge(df1, df2, how='outer')"
      ]
    },
    {
      "cell_type": "code",
      "execution_count": null,
      "metadata": {
        "colab": {
          "base_uri": "https://localhost:8080/",
          "height": 81
        },
        "id": "T4KnlvZwh3Lc",
        "outputId": "0cc86df1-7a0a-47f2-963f-59ba358d2b1b"
      },
      "outputs": [],
      "source": [
        "pd.merge(df1, df2, left_on='A', right_on='B')"
      ]
    },
    {
      "cell_type": "code",
      "execution_count": null,
      "metadata": {
        "colab": {
          "base_uri": "https://localhost:8080/",
          "height": 237
        },
        "id": "lZtuXZIXjvin",
        "outputId": "4d433ea4-5efc-4272-ae06-5052fada8171"
      },
      "outputs": [],
      "source": [
        "pd.merge(df1, df2, left_on='A', right_on='B', how='outer')"
      ]
    },
    {
      "cell_type": "code",
      "execution_count": null,
      "metadata": {
        "colab": {
          "base_uri": "https://localhost:8080/",
          "height": 112
        },
        "id": "XoRgKm0Hn30p",
        "outputId": "c7544913-c323-458e-ccd1-220bbfefbbe5"
      },
      "outputs": [],
      "source": [
        "pd.merge(df1, df2, left_index=True, right_index=True)"
      ]
    },
    {
      "cell_type": "code",
      "execution_count": null,
      "metadata": {
        "id": "xN0QtgOkoQ_w"
      },
      "outputs": [],
      "source": [
        "data = np.random.standard_normal((1000000, 2))"
      ]
    },
    {
      "cell_type": "code",
      "execution_count": null,
      "metadata": {
        "colab": {
          "base_uri": "https://localhost:8080/"
        },
        "id": "z3gDCwihrJ8Q",
        "outputId": "f9cdf19e-b278-4e24-c773-88450ac19aee"
      },
      "outputs": [],
      "source": [
        "data.nbytes"
      ]
    },
    {
      "cell_type": "code",
      "execution_count": null,
      "metadata": {
        "id": "-1OOJsVxrLv0"
      },
      "outputs": [],
      "source": [
        "df = pd.DataFrame(data, columns=['x', 'y'])"
      ]
    },
    {
      "cell_type": "code",
      "execution_count": null,
      "metadata": {
        "colab": {
          "base_uri": "https://localhost:8080/"
        },
        "id": "EZezLFU7r3uO",
        "outputId": "9c4fb85d-9334-46e9-d408-add65e235404"
      },
      "outputs": [],
      "source": [
        "df.info()"
      ]
    },
    {
      "cell_type": "code",
      "execution_count": null,
      "metadata": {
        "colab": {
          "base_uri": "https://localhost:8080/"
        },
        "id": "yppahWRjr5nV",
        "outputId": "3ae45f5d-904b-46a1-ddc8-3d60cb77179b"
      },
      "outputs": [],
      "source": [
        "%time res = df['x'] + df['y']"
      ]
    },
    {
      "cell_type": "code",
      "execution_count": null,
      "metadata": {
        "colab": {
          "base_uri": "https://localhost:8080/",
          "height": 423
        },
        "id": "xI_6wiRsuMPt",
        "outputId": "7c97a7f5-ca50-436a-de9c-b8404e7b269f"
      },
      "outputs": [],
      "source": [
        "df"
      ]
    },
    {
      "cell_type": "code",
      "execution_count": null,
      "metadata": {
        "colab": {
          "base_uri": "https://localhost:8080/"
        },
        "id": "xKDHSPS0uryu",
        "outputId": "dce5fb43-698c-40e0-ca3c-0e75830090a8"
      },
      "outputs": [],
      "source": [
        "%time res = df.sum(axis=1)"
      ]
    },
    {
      "cell_type": "code",
      "execution_count": null,
      "metadata": {
        "colab": {
          "base_uri": "https://localhost:8080/"
        },
        "id": "pNfmIsEMvcR7",
        "outputId": "6fe99ed0-6c95-4672-c416-bdbe4ffe08f9"
      },
      "outputs": [],
      "source": [
        "%time res = np.sum(df.values, axis=1)"
      ]
    },
    {
      "cell_type": "code",
      "execution_count": null,
      "metadata": {
        "colab": {
          "base_uri": "https://localhost:8080/"
        },
        "id": "2urib2XUvje9",
        "outputId": "c7b02dfd-b80a-4380-89d9-a84cb78957af"
      },
      "outputs": [],
      "source": [
        "df.values"
      ]
    },
    {
      "cell_type": "code",
      "execution_count": null,
      "metadata": {
        "id": "jMSbKdgkvn21"
      },
      "outputs": [],
      "source": []
    }
  ],
  "metadata": {
    "colab": {
      "include_colab_link": true,
      "provenance": []
    },
    "kernelspec": {
      "display_name": ".venv",
      "language": "python",
      "name": "python3"
    },
    "language_info": {
      "codemirror_mode": {
        "name": "ipython",
        "version": 3
      },
      "file_extension": ".py",
      "mimetype": "text/x-python",
      "name": "python",
      "nbconvert_exporter": "python",
      "pygments_lexer": "ipython3",
      "version": "3.9.16"
    },
    "orig_nbformat": 4
  },
  "nbformat": 4,
  "nbformat_minor": 0
}
