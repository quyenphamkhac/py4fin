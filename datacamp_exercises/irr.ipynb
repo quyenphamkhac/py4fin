{
 "cells": [
  {
   "cell_type": "code",
   "execution_count": 1,
   "metadata": {},
   "outputs": [],
   "source": [
    "import numpy as np\n",
    "import numpy_financial as npf"
   ]
  },
  {
   "cell_type": "code",
   "execution_count": 2,
   "metadata": {},
   "outputs": [],
   "source": [
    "cf_project_1 = np.array([-1000, 125, 233, 224, 678, 900])\n",
    "cf_project_2 = np.array([-1000, 400, 200, 300, 100, 125])"
   ]
  },
  {
   "cell_type": "code",
   "execution_count": 3,
   "metadata": {},
   "outputs": [],
   "source": [
    "cf_project_1 = 1000 * cf_project_1"
   ]
  },
  {
   "cell_type": "code",
   "execution_count": 4,
   "metadata": {},
   "outputs": [],
   "source": [
    "cf_project_2 = 1000 * cf_project_2"
   ]
  },
  {
   "cell_type": "code",
   "execution_count": 5,
   "metadata": {},
   "outputs": [],
   "source": [
    "irr_project_1 = npf.irr(values=cf_project_1)\n",
    "irr_project_2 = npf.irr(values=cf_project_2)"
   ]
  },
  {
   "cell_type": "code",
   "execution_count": 6,
   "metadata": {},
   "outputs": [
    {
     "name": "stdout",
     "output_type": "stream",
     "text": [
      "Internal Return Rate of Project 1 is 22.72\n",
      "Internal Return Rate of Project 2 is 5.08\n"
     ]
    }
   ],
   "source": [
    "print(f'Internal Return Rate of Project 1 is {irr_project_1 * 100:.2f}')\n",
    "print(f'Internal Return Rate of Project 2 is {irr_project_2 * 100:.2f}')"
   ]
  },
  {
   "cell_type": "code",
   "execution_count": 7,
   "metadata": {},
   "outputs": [
    {
     "name": "stdout",
     "output_type": "stream",
     "text": [
      "-855.1009225937204\n"
     ]
    }
   ],
   "source": [
    "\n",
    "pmt = npf.pmt(rate=((1 + 0.07)**(1/12)-1), nper=30*12, pv=0, fv=1000000)\n",
    "print(pmt)\n"
   ]
  },
  {
   "cell_type": "code",
   "execution_count": null,
   "metadata": {},
   "outputs": [],
   "source": []
  }
 ],
 "metadata": {
  "kernelspec": {
   "display_name": ".venv",
   "language": "python",
   "name": "python3"
  },
  "language_info": {
   "codemirror_mode": {
    "name": "ipython",
    "version": 3
   },
   "file_extension": ".py",
   "mimetype": "text/x-python",
   "name": "python",
   "nbconvert_exporter": "python",
   "pygments_lexer": "ipython3",
   "version": "3.9.16"
  },
  "orig_nbformat": 4
 },
 "nbformat": 4,
 "nbformat_minor": 2
}
