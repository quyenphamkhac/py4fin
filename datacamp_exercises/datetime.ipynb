{
 "cells": [
  {
   "cell_type": "code",
   "execution_count": 2,
   "metadata": {},
   "outputs": [],
   "source": [
    "from datetime import datetime"
   ]
  },
  {
   "cell_type": "code",
   "execution_count": 3,
   "metadata": {},
   "outputs": [],
   "source": [
    "# March 10, 2000 Tech Bubble Crash\n",
    "tech_bubble = datetime(2000, 3, 10)"
   ]
  },
  {
   "cell_type": "code",
   "execution_count": 4,
   "metadata": {},
   "outputs": [],
   "source": [
    "# Access the year\n",
    "yr = tech_bubble.year"
   ]
  },
  {
   "cell_type": "code",
   "execution_count": 5,
   "metadata": {},
   "outputs": [],
   "source": [
    "# Access the month\n",
    "mth = tech_bubble.month"
   ]
  },
  {
   "cell_type": "code",
   "execution_count": 6,
   "metadata": {},
   "outputs": [],
   "source": [
    "# Access the day\n",
    "day = tech_bubble.day"
   ]
  },
  {
   "cell_type": "code",
   "execution_count": 7,
   "metadata": {},
   "outputs": [
    {
     "name": "stdout",
     "output_type": "stream",
     "text": [
      "Year: 2000, Month: 3, Day: 10\n"
     ]
    }
   ],
   "source": [
    "print(f'Year: {yr}, Month: {mth}, Day: {day}')"
   ]
  },
  {
   "cell_type": "code",
   "execution_count": 9,
   "metadata": {},
   "outputs": [
    {
     "name": "stdout",
     "output_type": "stream",
     "text": [
      "It is True that Lehman Brothers declared bankruptcy first.\n",
      "It is True that Morgan Stanley and Goldman Sachs acted simultaneously\n"
     ]
    }
   ],
   "source": [
    "# Lehman Brothers before Morgan Stanley?\n",
    "lehman = datetime(2008, 9, 15)\n",
    "morgan_stanley = datetime(2008, 9, 22)\n",
    "goldman_sachs = datetime(2008, 9, 22)\n",
    "\n",
    "lehman_first = lehman < morgan_stanley\n",
    "same_time = morgan_stanley == goldman_sachs\n",
    "print(f\"It is {lehman_first} that Lehman Brothers declared bankruptcy first.\")\n",
    "print(f\"It is {same_time} that Morgan Stanley and Goldman Sachs acted simultaneously\")"
   ]
  },
  {
   "cell_type": "code",
   "execution_count": 10,
   "metadata": {},
   "outputs": [],
   "source": [
    "from datetime import timedelta"
   ]
  },
  {
   "cell_type": "code",
   "execution_count": 16,
   "metadata": {},
   "outputs": [
    {
     "name": "stdout",
     "output_type": "stream",
     "text": [
      "2008-09-26 00:00:00\n",
      "2008-10-10 00:00:00\n",
      "2009-10-02 00:00:00\n"
     ]
    }
   ],
   "source": [
    "tarp = datetime(2008, 10, 3)\n",
    "week_before = tarp - timedelta(days=7)\n",
    "week_after = tarp + timedelta(weeks=1)\n",
    "year_after = tarp + timedelta(weeks=52)\n",
    "print(week_before)\n",
    "print(week_after)\n",
    "print(year_after)"
   ]
  },
  {
   "cell_type": "code",
   "execution_count": null,
   "metadata": {},
   "outputs": [],
   "source": []
  }
 ],
 "metadata": {
  "kernelspec": {
   "display_name": ".venv",
   "language": "python",
   "name": "python3"
  },
  "language_info": {
   "codemirror_mode": {
    "name": "ipython",
    "version": 3
   },
   "file_extension": ".py",
   "mimetype": "text/x-python",
   "name": "python",
   "nbconvert_exporter": "python",
   "pygments_lexer": "ipython3",
   "version": "3.9.16"
  },
  "orig_nbformat": 4
 },
 "nbformat": 4,
 "nbformat_minor": 2
}
