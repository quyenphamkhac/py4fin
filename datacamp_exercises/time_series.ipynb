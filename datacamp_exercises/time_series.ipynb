{
 "cells": [
  {
   "cell_type": "code",
   "execution_count": 1,
   "metadata": {},
   "outputs": [],
   "source": [
    "import pandas as pd"
   ]
  },
  {
   "cell_type": "code",
   "execution_count": 2,
   "metadata": {},
   "outputs": [],
   "source": [
    "from datetime import datetime"
   ]
  },
  {
   "cell_type": "code",
   "execution_count": 3,
   "metadata": {},
   "outputs": [
    {
     "name": "stdout",
     "output_type": "stream",
     "text": [
      "6 Sunday\n",
      "0 Monday\n",
      "1 Tuesday\n",
      "2 Wednesday\n",
      "3 Thursday\n",
      "4 Friday\n",
      "5 Saturday\n"
     ]
    }
   ],
   "source": [
    "seven_days = pd.date_range(start='2017-1-1', periods=7)\n",
    "\n",
    "for day in seven_days:\n",
    "    print(day.dayofweek, day.day_name())"
   ]
  },
  {
   "cell_type": "code",
   "execution_count": 4,
   "metadata": {},
   "outputs": [
    {
     "name": "stdout",
     "output_type": "stream",
     "text": [
      "<class 'pandas.core.frame.DataFrame'>\n",
      "RangeIndex: 3 entries, 0 to 2\n",
      "Data columns (total 1 columns):\n",
      " #   Column  Non-Null Count  Dtype\n",
      "---  ------  --------------  -----\n",
      " 0   2014    3 non-null      int64\n",
      "dtypes: int64(1)\n",
      "memory usage: 152.0 bytes\n",
      "None\n"
     ]
    }
   ],
   "source": [
    "df1 = pd.DataFrame([1, 2, 3], columns=['2014'])\n",
    "print(df1.info())"
   ]
  },
  {
   "cell_type": "code",
   "execution_count": 5,
   "metadata": {},
   "outputs": [
    {
     "name": "stdout",
     "output_type": "stream",
     "text": [
      "   2014\n",
      "0     1\n",
      "1     2\n",
      "2     3\n"
     ]
    }
   ],
   "source": [
    "print(df1.head())"
   ]
  },
  {
   "cell_type": "code",
   "execution_count": 6,
   "metadata": {},
   "outputs": [
    {
     "name": "stdout",
     "output_type": "stream",
     "text": [
      "<class 'pandas.core.frame.DataFrame'>\n",
      "RangeIndex: 3 entries, 0 to 2\n",
      "Data columns (total 2 columns):\n",
      " #   Column  Non-Null Count  Dtype  \n",
      "---  ------  --------------  -----  \n",
      " 0   2014    3 non-null      int64  \n",
      " 1   2015    2 non-null      float64\n",
      "dtypes: float64(1), int64(1)\n",
      "memory usage: 176.0 bytes\n",
      "None\n",
      "   2014  2015\n",
      "0     1   5.0\n",
      "1     2   6.0\n",
      "2     3   NaN\n"
     ]
    }
   ],
   "source": [
    "df2 = pd.DataFrame([5, 6], columns=['2015'])\n",
    "\n",
    "prices = pd.concat([df1, df2], axis=1)\n",
    "print(prices.info())\n",
    "print(prices.head())"
   ]
  },
  {
   "cell_type": "code",
   "execution_count": 7,
   "metadata": {},
   "outputs": [
    {
     "name": "stdout",
     "output_type": "stream",
     "text": [
      "<class 'pandas.core.frame.DataFrame'>\n",
      "RangeIndex: 4 entries, 0 to 3\n",
      "Data columns (total 3 columns):\n",
      " #   Column  Non-Null Count  Dtype  \n",
      "---  ------  --------------  -----  \n",
      " 0   2014    3 non-null      float64\n",
      " 1   2015    2 non-null      float64\n",
      " 2   2016    4 non-null      int64  \n",
      "dtypes: float64(2), int64(1)\n",
      "memory usage: 224.0 bytes\n",
      "None\n"
     ]
    }
   ],
   "source": [
    "df3 = pd.DataFrame([7, 8, 9, 10], columns=['2016'])\n",
    "prices_2 = pd.concat([df1, df2, df3], axis=1)\n",
    "print(prices_2.info())"
   ]
  },
  {
   "cell_type": "code",
   "execution_count": 8,
   "metadata": {},
   "outputs": [
    {
     "name": "stdout",
     "output_type": "stream",
     "text": [
      "   2014  2015  2016\n",
      "0   1.0   5.0     7\n",
      "1   2.0   6.0     8\n",
      "2   3.0   NaN     9\n",
      "3   NaN   NaN    10\n"
     ]
    }
   ],
   "source": [
    "\n",
    "print(prices_2.head())"
   ]
  },
  {
   "cell_type": "code",
   "execution_count": null,
   "metadata": {},
   "outputs": [],
   "source": []
  }
 ],
 "metadata": {
  "kernelspec": {
   "display_name": ".venv",
   "language": "python",
   "name": "python3"
  },
  "language_info": {
   "codemirror_mode": {
    "name": "ipython",
    "version": 3
   },
   "file_extension": ".py",
   "mimetype": "text/x-python",
   "name": "python",
   "nbconvert_exporter": "python",
   "pygments_lexer": "ipython3",
   "version": "3.9.16"
  },
  "orig_nbformat": 4
 },
 "nbformat": 4,
 "nbformat_minor": 2
}
