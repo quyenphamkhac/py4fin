{
 "cells": [
  {
   "cell_type": "code",
   "execution_count": 1,
   "metadata": {},
   "outputs": [],
   "source": [
    "import pandas as pd"
   ]
  },
  {
   "cell_type": "code",
   "execution_count": 2,
   "metadata": {},
   "outputs": [],
   "source": [
    "import numpy_financial as npf\n",
    "import numpy as np"
   ]
  },
  {
   "cell_type": "code",
   "execution_count": 11,
   "metadata": {},
   "outputs": [
    {
     "name": "stdout",
     "output_type": "stream",
     "text": [
      "The net present value of the investment is: -2418.43\n"
     ]
    }
   ],
   "source": [
    "initial_investment = -10000\n",
    "cash_flows = np.array([0, 2000, 2000, 2000, 2000, 2000])\n",
    "discount_rate = 0.1\n",
    "\n",
    "npv = npf.npv(rate=discount_rate, values=cash_flows) + initial_investment\n",
    "\n",
    "print(\"The net present value of the investment is:\", np.round(npv, 2))"
   ]
  },
  {
   "cell_type": "code",
   "execution_count": 13,
   "metadata": {},
   "outputs": [
    {
     "name": "stdout",
     "output_type": "stream",
     "text": [
      "-1241.8426461183099\n"
     ]
    }
   ],
   "source": [
    "fv = 2000\n",
    "discount_rate = 0.1\n",
    "investment_lifespan = 5\n",
    "\n",
    "pv = npf.pv(rate=discount_rate, nper=investment_lifespan, pmt=0, fv=2000)\n",
    "print(pv)"
   ]
  },
  {
   "cell_type": "code",
   "execution_count": null,
   "metadata": {},
   "outputs": [],
   "source": []
  }
 ],
 "metadata": {
  "kernelspec": {
   "display_name": ".venv",
   "language": "python",
   "name": "python3"
  },
  "language_info": {
   "codemirror_mode": {
    "name": "ipython",
    "version": 3
   },
   "file_extension": ".py",
   "mimetype": "text/x-python",
   "name": "python",
   "nbconvert_exporter": "python",
   "pygments_lexer": "ipython3",
   "version": "3.9.16"
  },
  "orig_nbformat": 4
 },
 "nbformat": 4,
 "nbformat_minor": 2
}
